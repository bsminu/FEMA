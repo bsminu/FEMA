{
 "cells": [
  {
   "cell_type": "markdown",
   "metadata": {},
   "source": [
    "# Capstone Story Telling - FEMA Data"
   ]
  },
  {
   "cell_type": "markdown",
   "metadata": {},
   "source": [
    "    Originally, I felt that telling a story with this FEMA data may prove to be a challenge for a few reasons. As we will see in some early code, the shape of the data is far from normal. The reason for this is most likely as follows: any time a disaster is recorded, every effect city and zipcode receives a row for its individual record. For many of these, data as small as one grant being handed out might be recorded for one particular city/zipcode--if this is the case, then zeroes fill the rest of our columns in that instance. This means that, for many of our predictors, zeroes dominate the data.\n",
    "\n",
    "    Statistically, this means that, for a lot of our predictors, the 1st, 2nd, and 3rd quartiles tell a story of low numbers (often times referring to dollar amounts), while the mean for a lot of these is pulled very high by outliers.  While at first I thought this meant there was no story to tell, I later realized, no, this is the story. Disasters are not standardized. The same hurricane can be recorded as having caused one city 1,000 dollars in damages and another 100,000,000.\n",
    "\n",
    "    Regardless, we are out to find a story in this data. The first portion of code here will be an attempt to handle the state of our data--finding ways to deal with zeroes and missing data."
   ]
  },
  {
   "cell_type": "code",
   "execution_count": 1,
   "metadata": {},
   "outputs": [],
   "source": [
    "%matplotlib inline\n",
    "\n",
    "import pandas as pd\n",
    "import numpy as np\n",
    "import seaborn as sns\n",
    "import matplotlib.pyplot as plt"
   ]
  },
  {
   "cell_type": "code",
   "execution_count": 2,
   "metadata": {},
   "outputs": [],
   "source": [
    "# After executing the \"Wrangling\" code for my capstone, the following df will be stored locally as 'FEMA.csv'\n",
    "file = \"FEMA.csv\"\n",
    "dates = ['declarationDate','incidentBeginDate','incidentEndDate','disasterCloseOutDate']\n",
    "\n",
    "df = pd.read_csv(file, sep = '\\t', index_col = False, parse_dates = dates, low_memory = False)"
   ]
  },
  {
   "cell_type": "code",
   "execution_count": 3,
   "metadata": {},
   "outputs": [
    {
     "name": "stdout",
     "output_type": "stream",
     "text": [
      "(92488, 36)\n"
     ]
    }
   ],
   "source": [
    "df = df.set_index(['disasterNumber','zipCode','city'])\n",
    "print(df.shape)\n",
    "#print(df.columns)\n",
    "#df.sort_values('fyDeclared').tail(10)"
   ]
  },
  {
   "cell_type": "code",
   "execution_count": 4,
   "metadata": {},
   "outputs": [],
   "source": [
    "# empirical cumulative distribution function\n",
    "\n",
    "def ecdf(data):\n",
    "    \"\"\"Compute ECDF for a one-dimensional array\"\"\"\n",
    "    # Number of data points: n\n",
    "    n = len(data)\n",
    "    x = np.sort(data)\n",
    "    y = np.arange(1, n+1)/n\n",
    "    \n",
    "    return x, y"
   ]
  },
  {
   "cell_type": "code",
   "execution_count": 5,
   "metadata": {},
   "outputs": [
    {
     "data": {
      "image/png": "[encoded data removed]",
      "text/plain": [
       "<Figure size 432x288 with 1 Axes>"
      ]
     },
     "metadata": {
      "needs_background": "light"
     },
     "output_type": "display_data"
    }
   ],
   "source": [
    "x, y = ecdf(df['totalDamage'])\n",
    "\n",
    "_ = plt.plot(x, y, marker = '.', linestyle = 'none')\n",
    "_ = plt.xlabel('total damage ($)')\n",
    "_ = plt.ylabel('ECDF')\n",
    "\n",
    "plt.show()"
   ]
  },
  {
   "cell_type": "markdown",
   "metadata": {},
   "source": [
    "    Our ECDF curve shows two things: 1) what we already knew; that the data (at least on this predictor, total damages) is hard scewed the the left. But also, 2) that we have a serious outlier point. Intuition would tell us that total damages is probably correlated well with many of the other financial-related variables, so it's important to know what exactly that point is."
   ]
  },
  {
   "cell_type": "code",
   "execution_count": 6,
   "metadata": {},
   "outputs": [
    {
     "data": {
      "text/html": [
       "<div>\n",
       "<style scoped>\n",
       "    .dataframe tbody tr th:only-of-type {\n",
       "        vertical-align: middle;\n",
       "    }\n",
       "\n",
       "    .dataframe tbody tr th {\n",
       "        vertical-align: top;\n",
       "    }\n",
       "\n",
       "    .dataframe thead th {\n",
       "        text-align: right;\n",
       "    }\n",
       "</style>\n",
       "<table border=\"1\" class=\"dataframe\">\n",
       "  <thead>\n",
       "    <tr style=\"text-align: right;\">\n",
       "      <th></th>\n",
       "      <th></th>\n",
       "      <th></th>\n",
       "      <th>state</th>\n",
       "      <th>county</th>\n",
       "      <th>validRegistrations</th>\n",
       "      <th>totalInspected</th>\n",
       "      <th>noFemaInspectedDamage</th>\n",
       "      <th>approvedForFemaAssistance</th>\n",
       "      <th>totalApprovedIhpAmount</th>\n",
       "      <th>repairReplaceAmount</th>\n",
       "      <th>rentalAmount</th>\n",
       "      <th>otherNeedsAmount</th>\n",
       "      <th>...</th>\n",
       "      <th>incidentType</th>\n",
       "      <th>title</th>\n",
       "      <th>ihProgramDeclared</th>\n",
       "      <th>iaProgramDeclared</th>\n",
       "      <th>paProgramDeclared</th>\n",
       "      <th>hmProgramDeclared</th>\n",
       "      <th>incidentBeginDate</th>\n",
       "      <th>incidentEndDate</th>\n",
       "      <th>disasterCloseOutDate</th>\n",
       "      <th>disasterLength</th>\n",
       "    </tr>\n",
       "    <tr>\n",
       "      <th>disasterNumber</th>\n",
       "      <th>zipCode</th>\n",
       "      <th>city</th>\n",
       "      <th></th>\n",
       "      <th></th>\n",
       "      <th></th>\n",
       "      <th></th>\n",
       "      <th></th>\n",
       "      <th></th>\n",
       "      <th></th>\n",
       "      <th></th>\n",
       "      <th></th>\n",
       "      <th></th>\n",
       "      <th></th>\n",
       "      <th></th>\n",
       "      <th></th>\n",
       "      <th></th>\n",
       "      <th></th>\n",
       "      <th></th>\n",
       "      <th></th>\n",
       "      <th></th>\n",
       "      <th></th>\n",
       "      <th></th>\n",
       "      <th></th>\n",
       "    </tr>\n",
       "  </thead>\n",
       "  <tbody>\n",
       "    <tr>\n",
       "      <th>1604</th>\n",
       "      <th>39520</th>\n",
       "      <th>BAY SAINT LOUIS</th>\n",
       "      <td>MS</td>\n",
       "      <td>Hancock (County)</td>\n",
       "      <td>18.0</td>\n",
       "      <td>9814.0</td>\n",
       "      <td>4868.0</td>\n",
       "      <td>9446.0</td>\n",
       "      <td>110043244.0</td>\n",
       "      <td>22683060.0</td>\n",
       "      <td>41842556.0</td>\n",
       "      <td>45517627.0</td>\n",
       "      <td>...</td>\n",
       "      <td>Hurricane</td>\n",
       "      <td>HURRICANE KATRINA</td>\n",
       "      <td>0</td>\n",
       "      <td>0</td>\n",
       "      <td>1</td>\n",
       "      <td>1</td>\n",
       "      <td>2005-08-29</td>\n",
       "      <td>2005-10-14 14:21:00</td>\n",
       "      <td>NaT</td>\n",
       "      <td>46 days 14:21:00.000000000</td>\n",
       "    </tr>\n",
       "  </tbody>\n",
       "</table>\n",
       "<p>1 rows × 36 columns</p>\n",
       "</div>"
      ],
      "text/plain": [
       "                                       state            county  \\\n",
       "disasterNumber zipCode city                                      \n",
       "1604           39520   BAY SAINT LOUIS    MS  Hancock (County)   \n",
       "\n",
       "                                        validRegistrations  totalInspected  \\\n",
       "disasterNumber zipCode city                                                  \n",
       "1604           39520   BAY SAINT LOUIS                18.0          9814.0   \n",
       "\n",
       "                                        noFemaInspectedDamage  \\\n",
       "disasterNumber zipCode city                                     \n",
       "1604           39520   BAY SAINT LOUIS                 4868.0   \n",
       "\n",
       "                                        approvedForFemaAssistance  \\\n",
       "disasterNumber zipCode city                                         \n",
       "1604           39520   BAY SAINT LOUIS                     9446.0   \n",
       "\n",
       "                                        totalApprovedIhpAmount  \\\n",
       "disasterNumber zipCode city                                      \n",
       "1604           39520   BAY SAINT LOUIS             110043244.0   \n",
       "\n",
       "                                        repairReplaceAmount  rentalAmount  \\\n",
       "disasterNumber zipCode city                                                 \n",
       "1604           39520   BAY SAINT LOUIS           22683060.0    41842556.0   \n",
       "\n",
       "                                        otherNeedsAmount  \\\n",
       "disasterNumber zipCode city                                \n",
       "1604           39520   BAY SAINT LOUIS        45517627.0   \n",
       "\n",
       "                                                   ...              \\\n",
       "disasterNumber zipCode city                        ...               \n",
       "1604           39520   BAY SAINT LOUIS             ...               \n",
       "\n",
       "                                        incidentType              title  \\\n",
       "disasterNumber zipCode city                                               \n",
       "1604           39520   BAY SAINT LOUIS     Hurricane  HURRICANE KATRINA   \n",
       "\n",
       "                                        ihProgramDeclared  iaProgramDeclared  \\\n",
       "disasterNumber zipCode city                                                    \n",
       "1604           39520   BAY SAINT LOUIS                  0                  0   \n",
       "\n",
       "                                        paProgramDeclared  hmProgramDeclared  \\\n",
       "disasterNumber zipCode city                                                    \n",
       "1604           39520   BAY SAINT LOUIS                  1                  1   \n",
       "\n",
       "                                        incidentBeginDate     incidentEndDate  \\\n",
       "disasterNumber zipCode city                                                     \n",
       "1604           39520   BAY SAINT LOUIS         2005-08-29 2005-10-14 14:21:00   \n",
       "\n",
       "                                        disasterCloseOutDate  \\\n",
       "disasterNumber zipCode city                                    \n",
       "1604           39520   BAY SAINT LOUIS                   NaT   \n",
       "\n",
       "                                                    disasterLength  \n",
       "disasterNumber zipCode city                                         \n",
       "1604           39520   BAY SAINT LOUIS  46 days 14:21:00.000000000  \n",
       "\n",
       "[1 rows x 36 columns]"
      ]
     },
     "execution_count": 6,
     "metadata": {},
     "output_type": "execute_result"
    }
   ],
   "source": [
    "# let's go find that outlier!\n",
    "\n",
    "df[df['totalDamage'] > 2.5e8].head() # produces record for disasterNumber 1604, zipcode 39520,\n",
    "                                     # 'Bay Saint Louis', a city in MS after Katrina"
   ]
  },
  {
   "cell_type": "code",
   "execution_count": 7,
   "metadata": {},
   "outputs": [
    {
     "data": {
      "text/plain": [
       "(1134, 36)"
      ]
     },
     "execution_count": 7,
     "metadata": {},
     "output_type": "execute_result"
    }
   ],
   "source": [
    "katrina = df.loc[1604] # Hurricane Katrina\n",
    "\n",
    "katrina.shape"
   ]
  },
  {
   "cell_type": "markdown",
   "metadata": {},
   "source": [
    "    Because of the massive amounts of zero's littering my data, perhaps we ought to consider each disaster in aggregate, as opposed to considering each individual city's record within each disaster. To do this, I created an aggregate data frame ('agg_df') using groupby:"
   ]
  },
  {
   "cell_type": "code",
   "execution_count": 8,
   "metadata": {},
   "outputs": [
    {
     "data": {
      "text/html": [
       "<div>\n",
       "<style scoped>\n",
       "    .dataframe tbody tr th:only-of-type {\n",
       "        vertical-align: middle;\n",
       "    }\n",
       "\n",
       "    .dataframe tbody tr th {\n",
       "        vertical-align: top;\n",
       "    }\n",
       "\n",
       "    .dataframe thead th {\n",
       "        text-align: right;\n",
       "    }\n",
       "</style>\n",
       "<table border=\"1\" class=\"dataframe\">\n",
       "  <thead>\n",
       "    <tr style=\"text-align: right;\">\n",
       "      <th></th>\n",
       "      <th>declarationDate</th>\n",
       "      <th>fyDeclared</th>\n",
       "      <th>disasterType</th>\n",
       "      <th>incidentType</th>\n",
       "      <th>title</th>\n",
       "      <th>ihProgramDeclared</th>\n",
       "      <th>iaProgramDeclared</th>\n",
       "      <th>paProgramDeclared</th>\n",
       "      <th>hmProgramDeclared</th>\n",
       "      <th>incidentBeginDate</th>\n",
       "      <th>...</th>\n",
       "      <th>totalMaxGrants</th>\n",
       "      <th>averageFemaInspectedDamage</th>\n",
       "      <th>totalDamage</th>\n",
       "      <th>femaInspectedDamageBetween1And10000</th>\n",
       "      <th>femaInspectedDamageBetween10001And20000</th>\n",
       "      <th>femaInspectedDamageBetween20001And30000</th>\n",
       "      <th>femaInspectedDamageGreaterThan30000</th>\n",
       "      <th>totalWithModerateDamage</th>\n",
       "      <th>totalWithMajorDamage</th>\n",
       "      <th>totalWithSubstantialDamage</th>\n",
       "    </tr>\n",
       "    <tr>\n",
       "      <th>disasterNumber</th>\n",
       "      <th></th>\n",
       "      <th></th>\n",
       "      <th></th>\n",
       "      <th></th>\n",
       "      <th></th>\n",
       "      <th></th>\n",
       "      <th></th>\n",
       "      <th></th>\n",
       "      <th></th>\n",
       "      <th></th>\n",
       "      <th></th>\n",
       "      <th></th>\n",
       "      <th></th>\n",
       "      <th></th>\n",
       "      <th></th>\n",
       "      <th></th>\n",
       "      <th></th>\n",
       "      <th></th>\n",
       "      <th></th>\n",
       "      <th></th>\n",
       "      <th></th>\n",
       "    </tr>\n",
       "  </thead>\n",
       "  <tbody>\n",
       "    <tr>\n",
       "      <th>1539</th>\n",
       "      <td>2004-08-13 17:30:00</td>\n",
       "      <td>2004</td>\n",
       "      <td>DR</td>\n",
       "      <td>Hurricane</td>\n",
       "      <td>TROPICAL STORM BONNIE AND HURRICANE CHARLEY</td>\n",
       "      <td>0</td>\n",
       "      <td>0</td>\n",
       "      <td>1</td>\n",
       "      <td>1</td>\n",
       "      <td>2004-08-11 09:00:00</td>\n",
       "      <td>...</td>\n",
       "      <td>145.0</td>\n",
       "      <td>1738228.0</td>\n",
       "      <td>300543524.0</td>\n",
       "      <td>44719.0</td>\n",
       "      <td>2405.0</td>\n",
       "      <td>447.0</td>\n",
       "      <td>974.0</td>\n",
       "      <td>0.0</td>\n",
       "      <td>0.0</td>\n",
       "      <td>0.0</td>\n",
       "    </tr>\n",
       "    <tr>\n",
       "      <th>1541</th>\n",
       "      <td>2004-08-26 23:15:00</td>\n",
       "      <td>2004</td>\n",
       "      <td>DR</td>\n",
       "      <td>Typhoon</td>\n",
       "      <td>FLOODING, HIGH SURF, STORM SURGE, AND HIGH WIN...</td>\n",
       "      <td>1</td>\n",
       "      <td>1</td>\n",
       "      <td>1</td>\n",
       "      <td>1</td>\n",
       "      <td>2004-08-21 14:40:00</td>\n",
       "      <td>...</td>\n",
       "      <td>0.0</td>\n",
       "      <td>335578.0</td>\n",
       "      <td>6744470.0</td>\n",
       "      <td>632.0</td>\n",
       "      <td>88.0</td>\n",
       "      <td>10.0</td>\n",
       "      <td>3.0</td>\n",
       "      <td>0.0</td>\n",
       "      <td>0.0</td>\n",
       "      <td>0.0</td>\n",
       "    </tr>\n",
       "    <tr>\n",
       "      <th>1544</th>\n",
       "      <td>2004-09-03 18:30:00</td>\n",
       "      <td>2004</td>\n",
       "      <td>DR</td>\n",
       "      <td>Severe Storm(s)</td>\n",
       "      <td>SEVERE STORMS, FLOODING AND TORNADOES ASSOCIAT...</td>\n",
       "      <td>1</td>\n",
       "      <td>1</td>\n",
       "      <td>0</td>\n",
       "      <td>1</td>\n",
       "      <td>2004-08-30 14:14:00</td>\n",
       "      <td>...</td>\n",
       "      <td>4.0</td>\n",
       "      <td>139848.0</td>\n",
       "      <td>6523630.0</td>\n",
       "      <td>1689.0</td>\n",
       "      <td>104.0</td>\n",
       "      <td>36.0</td>\n",
       "      <td>9.0</td>\n",
       "      <td>0.0</td>\n",
       "      <td>0.0</td>\n",
       "      <td>0.0</td>\n",
       "    </tr>\n",
       "  </tbody>\n",
       "</table>\n",
       "<p>3 rows × 34 columns</p>\n",
       "</div>"
      ],
      "text/plain": [
       "                   declarationDate  fyDeclared disasterType     incidentType  \\\n",
       "disasterNumber                                                                 \n",
       "1539           2004-08-13 17:30:00        2004           DR        Hurricane   \n",
       "1541           2004-08-26 23:15:00        2004           DR          Typhoon   \n",
       "1544           2004-09-03 18:30:00        2004           DR  Severe Storm(s)   \n",
       "\n",
       "                                                            title  \\\n",
       "disasterNumber                                                      \n",
       "1539                  TROPICAL STORM BONNIE AND HURRICANE CHARLEY   \n",
       "1541            FLOODING, HIGH SURF, STORM SURGE, AND HIGH WIN...   \n",
       "1544            SEVERE STORMS, FLOODING AND TORNADOES ASSOCIAT...   \n",
       "\n",
       "                ihProgramDeclared  iaProgramDeclared  paProgramDeclared  \\\n",
       "disasterNumber                                                            \n",
       "1539                            0                  0                  1   \n",
       "1541                            1                  1                  1   \n",
       "1544                            1                  1                  0   \n",
       "\n",
       "                hmProgramDeclared   incidentBeginDate  \\\n",
       "disasterNumber                                          \n",
       "1539                            1 2004-08-11 09:00:00   \n",
       "1541                            1 2004-08-21 14:40:00   \n",
       "1544                            1 2004-08-30 14:14:00   \n",
       "\n",
       "                           ...             totalMaxGrants  \\\n",
       "disasterNumber             ...                              \n",
       "1539                       ...                      145.0   \n",
       "1541                       ...                        0.0   \n",
       "1544                       ...                        4.0   \n",
       "\n",
       "               averageFemaInspectedDamage  totalDamage  \\\n",
       "disasterNumber                                           \n",
       "1539                            1738228.0  300543524.0   \n",
       "1541                             335578.0    6744470.0   \n",
       "1544                             139848.0    6523630.0   \n",
       "\n",
       "                femaInspectedDamageBetween1And10000  \\\n",
       "disasterNumber                                        \n",
       "1539                                        44719.0   \n",
       "1541                                          632.0   \n",
       "1544                                         1689.0   \n",
       "\n",
       "                femaInspectedDamageBetween10001And20000  \\\n",
       "disasterNumber                                            \n",
       "1539                                             2405.0   \n",
       "1541                                               88.0   \n",
       "1544                                              104.0   \n",
       "\n",
       "                femaInspectedDamageBetween20001And30000  \\\n",
       "disasterNumber                                            \n",
       "1539                                              447.0   \n",
       "1541                                               10.0   \n",
       "1544                                               36.0   \n",
       "\n",
       "                femaInspectedDamageGreaterThan30000  totalWithModerateDamage  \\\n",
       "disasterNumber                                                                 \n",
       "1539                                          974.0                      0.0   \n",
       "1541                                            3.0                      0.0   \n",
       "1544                                            9.0                      0.0   \n",
       "\n",
       "                totalWithMajorDamage  totalWithSubstantialDamage  \n",
       "disasterNumber                                                    \n",
       "1539                             0.0                         0.0  \n",
       "1541                             0.0                         0.0  \n",
       "1544                             0.0                         0.0  \n",
       "\n",
       "[3 rows x 34 columns]"
      ]
     },
     "execution_count": 8,
     "metadata": {},
     "output_type": "execute_result"
    }
   ],
   "source": [
    "group_df = df.iloc[:,2:23].groupby('disasterNumber').sum() # variables for which we need a sum aggregate\n",
    "\n",
    "cat_vars = df.iloc[:,23:36].groupby('disasterNumber').first() # variables for which the data is consistent across records\n",
    "\n",
    "agg_df = cat_vars.reset_index().merge(group_df.reset_index(), on = 'disasterNumber').set_index('disasterNumber')\n",
    "agg_df.head(3)"
   ]
  },
  {
   "cell_type": "markdown",
   "metadata": {},
   "source": [
    "Now, let's look at the data again:"
   ]
  },
  {
   "cell_type": "code",
   "execution_count": 9,
   "metadata": {},
   "outputs": [
    {
     "data": {
      "image/png": "[encoded data removed]",
      "text/plain": [
       "<Figure size 432x288 with 1 Axes>"
      ]
     },
     "metadata": {
      "needs_background": "light"
     },
     "output_type": "display_data"
    }
   ],
   "source": [
    "x, y = ecdf(agg_df['totalDamage'])\n",
    "\n",
    "_ = plt.plot(x, y, marker = '.', linestyle = 'none')\n",
    "_ = plt.xlabel('total damage ($)')\n",
    "_ = plt.ylabel('ECDF')\n",
    "\n",
    "plt.show()"
   ]
  },
  {
   "cell_type": "markdown",
   "metadata": {},
   "source": [
    "We can edit this aggregate df even more by removing some of these significant outliers. We'll call this value-capped df 'agg_df_limit':"
   ]
  },
  {
   "cell_type": "code",
   "execution_count": 10,
   "metadata": {},
   "outputs": [
    {
     "data": {
      "text/plain": [
       "(260, 34)"
      ]
     },
     "execution_count": 10,
     "metadata": {},
     "output_type": "execute_result"
    }
   ],
   "source": [
    "agg_df_limit = agg_df[agg_df['totalDamage']<60000000]\n",
    "agg_df_limit.shape # this shows that we didn't lose too many disasters; only 46 of the 306 in the full data set"
   ]
  },
  {
   "cell_type": "code",
   "execution_count": 11,
   "metadata": {},
   "outputs": [
    {
     "data": {
      "image/png": "[encoded data removed]",
      "text/plain": [
       "<Figure size 432x288 with 1 Axes>"
      ]
     },
     "metadata": {
      "needs_background": "light"
     },
     "output_type": "display_data"
    }
   ],
   "source": [
    "x, y = ecdf(agg_df_limit['totalDamage'])\n",
    "\n",
    "_ = plt.plot(x, y, marker = '.', linestyle = 'none')\n",
    "_ = plt.xlabel('total damage ($)')\n",
    "_ = plt.ylabel('ECDF')\n",
    "\n",
    "plt.show()"
   ]
  },
  {
   "cell_type": "markdown",
   "metadata": {},
   "source": [
    "This distribution looks a lot better and will allow us to do more traditional analysis.  We not have 3 possible dataframes from which to draw our conclusions in the following exploration:"
   ]
  },
  {
   "cell_type": "code",
   "execution_count": 12,
   "metadata": {},
   "outputs": [
    {
     "name": "stdout",
     "output_type": "stream",
     "text": [
      "1. 'df' : original df where records are indexed by disaster number, then zipcode, and then city; shape : (92488, 36)\n",
      "2. 'agg_df' : aggregated df by disaster; financial information and counts are respectively summed; shape : (306, 34)\n",
      "3. 'agg_df_limit' : aggregated df by disaster; financial information and counts are respectively summed, and disasters who total damage exceeds 60 million have been removed; shape : (260, 34)\n"
     ]
    }
   ],
   "source": [
    "dfs = [df, agg_df, agg_df_limit]\n",
    "\n",
    "print(\"1. 'df' : original df where records are indexed by disaster number, then zipcode, and then city; shape : \" + str(df.shape))\n",
    "print(\"2. 'agg_df' : aggregated df by disaster; financial information and counts are respectively summed; shape : \" + str(agg_df.shape))\n",
    "print(\"3. 'agg_df_limit' : aggregated df by disaster; financial information and counts are respectively summed, and disasters who total damage exceeds 60 million have been removed; shape : \" + str(agg_df_limit.shape))"
   ]
  },
  {
   "cell_type": "markdown",
   "metadata": {},
   "source": [
    "##### Can you count something interesting?"
   ]
  },
  {
   "cell_type": "markdown",
   "metadata": {},
   "source": [
    "There are plenty of things of interest to count, but first, I wanted to look at the distribution of the different types of incidents we might be dealing with here. A histogram would naturally be the chart of choice here, but because the incident types of 'Hurricane' and 'Severe Storm(s)' dominate the options, this format seemed more readable."
   ]
  },
  {
   "cell_type": "code",
   "execution_count": 13,
   "metadata": {},
   "outputs": [
    {
     "name": "stdout",
     "output_type": "stream",
     "text": [
      "Of the 92488 records, \n",
      "the group of type 'Earthquake' has 412 rows \n",
      "the group of type 'Fire' has 1871 rows \n",
      "the group of type 'Flood' has 7029 rows \n",
      "the group of type 'Hurricane' has 51454 rows \n",
      "the group of type 'Mud/Landslide' has 31 rows \n",
      "the group of type 'Other' has 7 rows \n",
      "the group of type 'Severe Storm(s)' has 29387 rows \n",
      "the group of type 'Tornado' has 416 rows \n",
      "the group of type 'Typhoon' has 1848 rows \n",
      "the group of type 'Volcano' has 33 rows \n"
     ]
    }
   ],
   "source": [
    "print(\"Of the 92488 records, \")\n",
    "for key, group_df in df.groupby('incidentType'):\n",
    "    print(\"the group of type '{}' has {} rows \".format(key,len(group_df)))"
   ]
  },
  {
   "cell_type": "markdown",
   "metadata": {},
   "source": [
    "Having the record counts is nice, but by taking advantage of these aggregate dataframes, we can also see how the incident types compare to one another, at least when it comes to total damage."
   ]
  },
  {
   "cell_type": "code",
   "execution_count": 14,
   "metadata": {},
   "outputs": [
    {
     "data": {
      "image/png": "[encoded data removed]",
      "text/plain": [
       "<Figure size 432x288 with 2 Axes>"
      ]
     },
     "metadata": {
      "needs_background": "light"
     },
     "output_type": "display_data"
    }
   ],
   "source": [
    "_ = plt.subplot(1,2,1)\n",
    "_ = sns.boxplot(x='incidentType',y='totalDamage', data = agg_df_limit)\n",
    "_ = plt.xlabel('incident type')\n",
    "_ = plt.xticks(rotation = 90)\n",
    "_ = plt.ylabel('total damage ($)')\n",
    "_ = plt.title('Total Damages for each Type')\n",
    "\n",
    "_ = plt.subplot(1,2,2)\n",
    "_ = agg_df_limit.incidentType.value_counts().plot(kind = 'bar')\n",
    "_ = plt.xticks(rotation = 90)\n",
    "_ = plt.title('Disaster Type Distribution')\n",
    "\n",
    "plt.show()"
   ]
  },
  {
   "cell_type": "markdown",
   "metadata": {},
   "source": [
    "##### Can you find trends (e.g. high, low, increasing, decreasing, anomalies)?"
   ]
  },
  {
   "cell_type": "markdown",
   "metadata": {},
   "source": [
    "We find one trend here with individual registrations. For some reason, which the data may or may not be able to tell us, registrations begin to really increase, exponentially even, after 2012. Best guess? Federal legislation. "
   ]
  },
  {
   "cell_type": "code",
   "execution_count": 15,
   "metadata": {},
   "outputs": [
    {
     "data": {
      "image/png": "[encoded data removed]",
      "text/plain": [
       "<Figure size 432x288 with 1 Axes>"
      ]
     },
     "metadata": {},
     "output_type": "display_data"
    }
   ],
   "source": [
    "import matplotlib.dates as dlt\n",
    "\n",
    "sns.set()\n",
    "declarationDates = dlt.date2num(df.declarationDate)\n",
    "_ = plt.plot_date(declarationDates, df['validRegistrations'])\n",
    "_ = plt.xlabel('Year')\n",
    "_ = plt.ylabel('Valid Registrations (unique cities)')\n",
    "plt.show()"
   ]
  },
  {
   "cell_type": "markdown",
   "metadata": {},
   "source": [
    "##### Can you make a bar plot or histogram?"
   ]
  },
  {
   "cell_type": "markdown",
   "metadata": {},
   "source": [
    "    If we use that limited aggregate DataFrame, 'agg_df_limit', we can get a reasonably shaped histogram of our 'totalDamage' variable across disasters."
   ]
  },
  {
   "cell_type": "code",
   "execution_count": 16,
   "metadata": {},
   "outputs": [
    {
     "data": {
      "image/png": "[encoded data removed]",
      "text/plain": [
       "<Figure size 432x288 with 1 Axes>"
      ]
     },
     "metadata": {},
     "output_type": "display_data"
    }
   ],
   "source": [
    "_ = plt.hist('totalDamage', data = agg_df_limit, bins = 25)\n",
    "_ = plt.xlabel('total damage ($)')\n",
    "_ = plt.ylabel('disaster count')\n",
    "plt.show()"
   ]
  },
  {
   "cell_type": "markdown",
   "metadata": {},
   "source": [
    "##### Can you compare two related quantities?"
   ]
  },
  {
   "cell_type": "markdown",
   "metadata": {
    "collapsed": true
   },
   "source": [
    "     With many of these variables, correlation should be intuitive, as many of them are essentially various ways of describing how expensive any one disaster might have been. But we have some non-financial numbers to play with as well, such as valid registration count and total approved for assistance.  When I first looked up the total damage outlier (our city demolished by Katrina, Bay Saint Louis), I noticed Valid Registrations was a paltry 18. Now, we don't have census information for each city recorded, but we can still look to draw correlations based on this valid registration count."
   ]
  },
  {
   "cell_type": "code",
   "execution_count": 17,
   "metadata": {},
   "outputs": [],
   "source": [
    "def pearson_r(x, y):\n",
    "    corr_matrix = np.corrcoef(x, y)\n",
    "    return corr_matrix[0,1]"
   ]
  },
  {
   "cell_type": "code",
   "execution_count": 18,
   "metadata": {},
   "outputs": [
    {
     "data": {
      "text/plain": [
       "0.7729307363493447"
      ]
     },
     "execution_count": 18,
     "metadata": {},
     "output_type": "execute_result"
    }
   ],
   "source": [
    "pearson_r(agg_df['validRegistrations'],agg_df['approvedForFemaAssistance'])"
   ]
  },
  {
   "cell_type": "code",
   "execution_count": 19,
   "metadata": {},
   "outputs": [],
   "source": [
    "grants_list = ['approvedBetween1And10000','approvedBetween10001And25000','approvedBetween25001AndMax','totalMaxGrants']\n",
    "\n",
    "# we'll be using this series of grant sizes more than once, so it's best to just make a list object to reference\n",
    "\n",
    "programs_list = ['ihProgramDeclared','iaProgramDeclared','paProgramDeclared','hmProgramDeclared']\n",
    "\n",
    "# we'll be using this series of programs more than once as well, so it's best to just make a list object to reference"
   ]
  },
  {
   "cell_type": "code",
   "execution_count": 20,
   "metadata": {},
   "outputs": [
    {
     "name": "stdout",
     "output_type": "stream",
     "text": [
      "Pearson correlations : \n",
      "valid registrations and approvedBetween1And10000 : 0.9716985423426233\n",
      "valid registrations and approvedBetween10001And25000 : 0.4769441778602019\n",
      "valid registrations and approvedBetween25001AndMax : 0.2922492617287202\n",
      "valid registrations and totalMaxGrants : 0.17778012445287023\n"
     ]
    }
   ],
   "source": [
    "print(\"Pearson correlations : \")\n",
    "for grant_category in grants_list:\n",
    "    print(\"valid registrations and \"+str(grant_category) + \" : \" \n",
    "          + str(pearson_r(agg_df['validRegistrations'],agg_df[grant_category])))"
   ]
  },
  {
   "cell_type": "markdown",
   "metadata": {},
   "source": [
    "##### Can you make a scatterplot?"
   ]
  },
  {
   "cell_type": "markdown",
   "metadata": {},
   "source": [
    "We have grants of four different levels being distributed to owners and renter for each record. A scatter plot with subplots would be a nice way to look at these levels all together to see if there are trends:"
   ]
  },
  {
   "cell_type": "code",
   "execution_count": 21,
   "metadata": {},
   "outputs": [
    {
     "data": {
      "image/png": "[encoded data removed]",
      "text/plain": [
       "<Figure size 432x288 with 4 Axes>"
      ]
     },
     "metadata": {},
     "output_type": "display_data"
    }
   ],
   "source": [
    "f, axarr = plt.subplots(2, 2)\n",
    "axarr[0, 0].scatter(x = df['fyDeclared'], y = df[grants_list[0]], color = 'g')\n",
    "axarr[0, 0].set_title(str(grants_list[0]))\n",
    "axarr[0, 1].scatter(x = df['fyDeclared'], y = df[grants_list[1]], color = 'b')\n",
    "axarr[0, 1].set_title(str(grants_list[1]))\n",
    "axarr[1, 0].scatter(x = df['fyDeclared'], y = df[grants_list[2]], color = 'r')\n",
    "axarr[1, 0].set_title(str(grants_list[2]))\n",
    "axarr[1, 1].scatter(x = df['fyDeclared'], y = df[grants_list[3]], color = 'k')\n",
    "axarr[1, 1].set_title(str(grants_list[3]))\n",
    "for ax in axarr.flat:\n",
    "    ax.set(xlabel='fiscal year declared', ylabel='count')\n",
    "# Hide x labels and tick labels for top plots and y ticks for right plots.\n",
    "for ax in axarr.flat:\n",
    "    ax.label_outer()\n",
    "f.suptitle('FEMA Grant Distribution Over 20 Years')\n",
    "plt.show()\n"
   ]
  },
  {
   "cell_type": "markdown",
   "metadata": {},
   "source": [
    "    The previous subplots show us something interesting indeed: grant distribution, especially passed the minimum level, is dominated by spikes in particular years. Before further investigation, we see that the years 2005, 2008, 2012, and 2016/17 have the lion share of the data. This of course points to specific disasters each time. For example, we know Hurricane Katrina is responsible (perhaps almost soley responsible) for the grants FEMA gave out in 2005. Further investigation of these other years might give us insights into whether we are warranted in calling this an every-4-year-pattern."
   ]
  },
  {
   "cell_type": "markdown",
   "metadata": {},
   "source": [
    "### Looking at the plots, what are some insights you can make? Do you see any correlations? Is there a hypothesis you’d like to investigate further? What other questions do the insights lead you to ask?"
   ]
  },
  {
   "cell_type": "markdown",
   "metadata": {},
   "source": [
    "    Correlations inevitably exist as most of these predictors revolve around how much damage was done, but which predictors tell us the most is the pertinent question. The grant information is the sum of both parties. We'll need to take information like this into account when deciding which numbers are most important.\n",
    "    \n",
    "    As far as future hypotheses, this 'every-4-year-pattern' has become an interesting question. But we also want to stay the course on assessing FEMA's mitigation protocols by basing it on money spent over time. The hypothesis around this, currently, is that FEMA is spending/giving/awarding less money despite no change in disaster damages.\n",
    "    \n",
    "    For my second hypothesis, I believe that how severely regions were previously effected by disasters tell us the most about how they will be effected in the future. In other words, we perhaps ought to ignore other factors, such as geography and socioeconomics when prioritizing regions, and use previous disaster effects to rate and to rank regions for mitigation effort priority."
   ]
  },
  {
   "cell_type": "markdown",
   "metadata": {},
   "source": [
    "### Is there a narrative or a way of presenting the insights using text and plots that tells a compelling story? What are some other trends/relationships you think will make the story more complete?"
   ]
  },
  {
   "cell_type": "markdown",
   "metadata": {},
   "source": [
    "    What has become most apparent is that we will need to manipulate the data to show some of the things we want to show.  All of the zeroes that fill the data sets pull our data in a way that is deceiving--is this cause for concern? Are simple summary statistics not telling the whole story? That's our primary angle right now.\n",
    "    \n",
    "    While this might be outside the scope of this project, socioeconomic and demographic information would really add to the questions we might be able to ask. It's no secret that Katrina ravaged poor cities in an already poor state. What is the story there? And does it happen more often than we might be led to believe?"
   ]
  },
  {
   "cell_type": "code",
   "execution_count": 30,
   "metadata": {},
   "outputs": [],
   "source": [
    "agg_df.to_csv('aggregate_FEMA.csv',sep = '\\t', index = 'disasterNumber')"
   ]
  },
  {
   "cell_type": "markdown",
   "metadata": {},
   "source": []
  }
 ],
 "metadata": {
  "kernelspec": {
   "display_name": "Python 3",
   "language": "python",
   "name": "python3"
  },
  "language_info": {
   "codemirror_mode": {
    "name": "ipython",
    "version": 3
   },
   "file_extension": ".py",
   "mimetype": "text/x-python",
   "name": "python",
   "nbconvert_exporter": "python",
   "pygments_lexer": "ipython3",
   "version": "3.7.1"
  }
 },
 "nbformat": 4,
 "nbformat_minor": 2
}
