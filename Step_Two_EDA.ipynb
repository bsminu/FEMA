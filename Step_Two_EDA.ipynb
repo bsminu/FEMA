{
 "cells": [
  {
   "cell_type": "markdown",
   "metadata": {},
   "source": [
    "# Capstone EDA - FEMA Data"
   ]
  },
  {
   "cell_type": "markdown",
   "metadata": {},
   "source": [
    "Before we could do too much Exploratory Data Analysis, we needed to upload our data--both in full and in the aggregate:"
   ]
  },
  {
   "cell_type": "code",
   "execution_count": 1,
   "metadata": {},
   "outputs": [],
   "source": [
    "%matplotlib inline\n",
    "\n",
    "import pandas as pd\n",
    "import numpy as np\n",
    "import seaborn as sns\n",
    "import matplotlib.pyplot as plt\n",
    "import scipy as stats"
   ]
  },
  {
   "cell_type": "code",
   "execution_count": 2,
   "metadata": {},
   "outputs": [],
   "source": [
    "# After executing the \"Wrangling\" code for my capstone, the following df will be stored locally as 'FEMA.csv'\n",
    "file = \"FEMA.csv\"\n",
    "dates = ['declarationDate','incidentBeginDate','incidentEndDate','disasterCloseOutDate']\n",
    "\n",
    "df = pd.read_csv(file, sep = '\\t', index_col = ['disasterNumber', 'zipCode', 'city'], parse_dates = dates, low_memory = False)"
   ]
  },
  {
   "cell_type": "code",
   "execution_count": 3,
   "metadata": {},
   "outputs": [],
   "source": [
    "# The aggregate df (agg_df) is also saved and will be needed for this EDA\n",
    "\n",
    "file_2 = \"aggregate_FEMA.csv\"\n",
    "\n",
    "agg_df = pd.read_csv(file_2, sep = '\\t', index_col = ['disasterNumber'], parse_dates = dates, low_memory = False)"
   ]
  },
  {
   "cell_type": "markdown",
   "metadata": {},
   "source": [
    "I'll want to explore the idea of \"spread\" of particular disasters, so we'll create a predictor: 'zip_counts', the sum of all zipcodes associated with each respective disaster."
   ]
  },
  {
   "cell_type": "code",
   "execution_count": 4,
   "metadata": {},
   "outputs": [],
   "source": [
    "dn_list = agg_df.index\n",
    "zip_counts = []\n",
    "\n",
    "for dn in dn_list:\n",
    "    a = df.reset_index().set_index('disasterNumber').loc[dn,:]\n",
    "    count = len(pd.Series(a.zipCode).unique())\n",
    "    zip_counts.append(count)"
   ]
  },
  {
   "cell_type": "code",
   "execution_count": 6,
   "metadata": {},
   "outputs": [],
   "source": [
    "# this is our measure of \"spread\" for any one disaster--how many zip codes did it cover\n",
    "\n",
    "agg_df['zip_counts'] = zip_counts"
   ]
  },
  {
   "cell_type": "markdown",
   "metadata": {},
   "source": [
    "While we don't have a statistical analysis to follow it, as further preparation for diving into our data, I want to look into at least some example data of the 3 measures of 'effected individual count': 'Valid Registrations, 'Total Inspected', and 'Approved for FEMA Assistance'."
   ]
  },
  {
   "cell_type": "code",
   "execution_count": 105,
   "metadata": {},
   "outputs": [
    {
     "data": {
      "text/html": [
       "<div>\n",
       "<style scoped>\n",
       "    .dataframe tbody tr th:only-of-type {\n",
       "        vertical-align: middle;\n",
       "    }\n",
       "\n",
       "    .dataframe tbody tr th {\n",
       "        vertical-align: top;\n",
       "    }\n",
       "\n",
       "    .dataframe thead th {\n",
       "        text-align: right;\n",
       "    }\n",
       "</style>\n",
       "<table border=\"1\" class=\"dataframe\">\n",
       "  <thead>\n",
       "    <tr style=\"text-align: right;\">\n",
       "      <th></th>\n",
       "      <th>zip_counts</th>\n",
       "      <th>validRegistrations</th>\n",
       "      <th>totalInspected</th>\n",
       "      <th>approvedForFemaAssistance</th>\n",
       "    </tr>\n",
       "    <tr>\n",
       "      <th>disasterNumber</th>\n",
       "      <th></th>\n",
       "      <th></th>\n",
       "      <th></th>\n",
       "      <th></th>\n",
       "    </tr>\n",
       "  </thead>\n",
       "  <tbody>\n",
       "    <tr>\n",
       "      <th>4337</th>\n",
       "      <td>1773</td>\n",
       "      <td>2636237.0</td>\n",
       "      <td>1001211.0</td>\n",
       "      <td>777198.0</td>\n",
       "    </tr>\n",
       "    <tr>\n",
       "      <th>1557</th>\n",
       "      <td>1147</td>\n",
       "      <td>33861.0</td>\n",
       "      <td>31086.0</td>\n",
       "      <td>25009.0</td>\n",
       "    </tr>\n",
       "    <tr>\n",
       "      <th>1545</th>\n",
       "      <td>1076</td>\n",
       "      <td>243046.0</td>\n",
       "      <td>316714.0</td>\n",
       "      <td>226457.0</td>\n",
       "    </tr>\n",
       "    <tr>\n",
       "      <th>4339</th>\n",
       "      <td>986</td>\n",
       "      <td>1116419.0</td>\n",
       "      <td>753717.0</td>\n",
       "      <td>464570.0</td>\n",
       "    </tr>\n",
       "    <tr>\n",
       "      <th>4020</th>\n",
       "      <td>949</td>\n",
       "      <td>42969.0</td>\n",
       "      <td>35215.0</td>\n",
       "      <td>22892.0</td>\n",
       "    </tr>\n",
       "  </tbody>\n",
       "</table>\n",
       "</div>"
      ],
      "text/plain": [
       "                zip_counts  validRegistrations  totalInspected  \\\n",
       "disasterNumber                                                   \n",
       "4337                  1773           2636237.0       1001211.0   \n",
       "1557                  1147             33861.0         31086.0   \n",
       "1545                  1076            243046.0        316714.0   \n",
       "4339                   986           1116419.0        753717.0   \n",
       "4020                   949             42969.0         35215.0   \n",
       "\n",
       "                approvedForFemaAssistance  \n",
       "disasterNumber                             \n",
       "4337                             777198.0  \n",
       "1557                              25009.0  \n",
       "1545                             226457.0  \n",
       "4339                             464570.0  \n",
       "4020                              22892.0  "
      ]
     },
     "execution_count": 105,
     "metadata": {},
     "output_type": "execute_result"
    }
   ],
   "source": [
    "agg_df.loc[:,['zip_counts','validRegistrations','totalInspected','approvedForFemaAssistance']].sort_values('zip_counts', ascending = False).head()"
   ]
  },
  {
   "cell_type": "markdown",
   "metadata": {},
   "source": [
    "While still considering my options, I asked whether we might find patterns/trends by subsetting for each disaster type. Though this proved fruitless, the code is below:"
   ]
  },
  {
   "cell_type": "code",
   "execution_count": 8,
   "metadata": {},
   "outputs": [],
   "source": [
    "# can we use a for loop to create subplots for each incident type?\n",
    "\n",
    "# step one: slice agg_df by 'incidentType'\n",
    "incident_list = agg_df.incidentType.unique()\n",
    "\n",
    "inc_df_list = []\n",
    "for inc in incident_list:\n",
    "    inc_df = agg_df[agg_df['incidentType']==inc]\n",
    "    inc_df_list.append(inc_df)"
   ]
  },
  {
   "cell_type": "code",
   "execution_count": 9,
   "metadata": {},
   "outputs": [
    {
     "name": "stdout",
     "output_type": "stream",
     "text": [
      "Hurricane, disaster count : 62\n",
      "Typhoon, disaster count : 5\n",
      "Severe Storm(s), disaster count : 177\n",
      "Tornado, disaster count : 9\n",
      "Fire, disaster count : 14\n",
      "Earthquake, disaster count : 4\n",
      "Flood, disaster count : 32\n",
      "Other, disaster count : 1\n",
      "Mud/Landslide, disaster count : 1\n",
      "Volcano, disaster count : 1\n"
     ]
    }
   ],
   "source": [
    "for incident, df in zip(incident_list, inc_df_list):\n",
    "    print(str(incident) + \", disaster count : \" + str(df.shape[0]))"
   ]
  },
  {
   "cell_type": "code",
   "execution_count": 10,
   "metadata": {},
   "outputs": [],
   "source": [
    "# what about when certain programs are inacted?\n",
    "program_list = ['ihProgramDeclared', 'iaProgramDeclared', 'paProgramDeclared', 'hmProgramDeclared']\n",
    "\n",
    "p_df_list = []\n",
    "for program in program_list:\n",
    "    p_df = agg_df[agg_df[program]==1]\n",
    "    p_df_list.append(p_df)"
   ]
  },
  {
   "cell_type": "code",
   "execution_count": 11,
   "metadata": {},
   "outputs": [
    {
     "name": "stdout",
     "output_type": "stream",
     "text": [
      "ihProgramDeclared, disaster count : 218\n",
      "iaProgramDeclared, disaster count : 94\n",
      "paProgramDeclared, disaster count : 254\n",
      "hmProgramDeclared, disaster count : 302\n"
     ]
    }
   ],
   "source": [
    "for program, df in zip(program_list, p_df_list):\n",
    "    print(str(program) + \", disaster count : \" + str(df.shape[0]))"
   ]
  },
  {
   "cell_type": "code",
   "execution_count": 30,
   "metadata": {},
   "outputs": [
    {
     "data": {
      "image/png": "[encoded data removed]",
      "text/plain": [
       "<Figure size 432x288 with 9 Axes>"
      ]
     },
     "metadata": {
      "needs_background": "light"
     },
     "output_type": "display_data"
    }
   ],
   "source": [
    "x = 'fyDeclared'\n",
    "y = 'totalApprovedIhpAmount'\n",
    "\n",
    "a, b = inc_df_list, incident_list\n",
    "\n",
    "for i, j, k in zip(range(1, len(a)), a, b):\n",
    "    plt.subplot(5, 2, i)\n",
    "    plt.scatter(x = x, y = y, data = j)\n",
    "    plt.title(b[i-1])\n",
    "\n",
    "plt.suptitle('Title')\n",
    "plt.show()"
   ]
  },
  {
   "cell_type": "markdown",
   "metadata": {},
   "source": [
    "These plots could be cleaned, up, but I don't think we're finding anything exceptional here in this data. Again, it proved fruitless, but it was worth considering. Now to move on to the actual EDA prompts."
   ]
  },
  {
   "cell_type": "markdown",
   "metadata": {},
   "source": [
    "#### Are there variables that are particularly significant in terms of explaining the answer to your project question?"
   ]
  },
  {
   "cell_type": "markdown",
   "metadata": {},
   "source": [
    "My three initiatives at the start were to:\n",
    "\n",
    "1) assess FEMA’s mitigation protocols based on money spent over time\n",
    "2) rate regions (zipcode or county) for mitigation priority\n",
    "3) predict disasters to assist mitigation efforts and save money\n",
    "\n",
    "To the first end, we have a few metrics for \"money spent\":\n",
    "    'Total Approved IHP Amount', and then the components of that amount, 'Repair Replace Amount', 'Rental Amount', and 'Other Needs Amount'. We can also look at financial grants which were approved with each disaster. These are subsetted into 4 ranges: '1 - 10,000 dollars', '10,001 - 25,000 dollars', '25,001 dollars - Max Grant', and 'Max Grants'. These grants should tell us a bit about the severity of damage, since we can intuit that FEMA has designated these ranges for a reason, i.e. the worst disasters will warrant/have warranted the distribution of $30,000+ grants, but many home owners/renters benefit from these other particular levels. As for the x-axis, we have the fiscal year each disaster was declared.\n",
    "\n",
    "To the second end, we would need to reindex and then aggregate our information (critically, whatever our 'money spent' metric is) by zip code and by year.\n",
    "    \n",
    "This final initiative is our most ambitious one because predicting disasters in general is a tall (nigh impossible) task, but to do it with our limited data (which is mostly financial) makes it much taller a task. \n"
   ]
  },
  {
   "cell_type": "markdown",
   "metadata": {},
   "source": [
    "#### Are there strong correlations between pairs of independent variables or between an independent and a dependent variable?"
   ]
  },
  {
   "cell_type": "code",
   "execution_count": 82,
   "metadata": {
    "scrolled": true
   },
   "outputs": [],
   "source": [
    "# important columns for checking correlation\n",
    "\n",
    "corr_cols = agg_df.reset_index()[['disasterNumber','title','incidentType','fyDeclared','disasterLength','zip_counts',\n",
    "                                  'totalApprovedIhpAmount','approvedForFemaAssistance']]\n",
    "\n",
    "# last bit of data wrangling that needs to be done (unescapable)\n",
    "\n",
    "corr_cols['disasterLength'] = corr_cols['disasterLength'].str.split(expand = True)\n",
    "corr_cols['disasterLength'] = pd.to_numeric(corr_cols['disasterLength'], errors = 'coerce')\n",
    "\n",
    "corr_cols = corr_cols.rename(columns = {'disasterLength':'length',\n",
    "                                        'totalApprovedIhpAmount':'apprAmount',\n",
    "                                        'approvedForFemaAssistance':'apprIndv'})\n",
    "\n",
    "corr_cols = corr_cols.set_index('disasterNumber')"
   ]
  },
  {
   "cell_type": "code",
   "execution_count": 84,
   "metadata": {},
   "outputs": [
    {
     "data": {
      "text/html": [
       "<div>\n",
       "<style scoped>\n",
       "    .dataframe tbody tr th:only-of-type {\n",
       "        vertical-align: middle;\n",
       "    }\n",
       "\n",
       "    .dataframe tbody tr th {\n",
       "        vertical-align: top;\n",
       "    }\n",
       "\n",
       "    .dataframe thead th {\n",
       "        text-align: right;\n",
       "    }\n",
       "</style>\n",
       "<table border=\"1\" class=\"dataframe\">\n",
       "  <thead>\n",
       "    <tr style=\"text-align: right;\">\n",
       "      <th></th>\n",
       "      <th>title</th>\n",
       "      <th>incidentType</th>\n",
       "      <th>fyDeclared</th>\n",
       "      <th>length</th>\n",
       "      <th>zip_counts</th>\n",
       "      <th>apprAmount</th>\n",
       "      <th>apprIndv</th>\n",
       "    </tr>\n",
       "    <tr>\n",
       "      <th>disasterNumber</th>\n",
       "      <th></th>\n",
       "      <th></th>\n",
       "      <th></th>\n",
       "      <th></th>\n",
       "      <th></th>\n",
       "      <th></th>\n",
       "      <th></th>\n",
       "    </tr>\n",
       "  </thead>\n",
       "  <tbody>\n",
       "    <tr>\n",
       "      <th>4337</th>\n",
       "      <td>HURRICANE IRMA</td>\n",
       "      <td>Hurricane</td>\n",
       "      <td>2017</td>\n",
       "      <td>44.0</td>\n",
       "      <td>1773</td>\n",
       "      <td>1.020335e+09</td>\n",
       "      <td>777198.0</td>\n",
       "    </tr>\n",
       "    <tr>\n",
       "      <th>1557</th>\n",
       "      <td>TROPICAL DEPRESSION IVAN</td>\n",
       "      <td>Hurricane</td>\n",
       "      <td>2004</td>\n",
       "      <td>14.0</td>\n",
       "      <td>1147</td>\n",
       "      <td>8.654718e+07</td>\n",
       "      <td>25009.0</td>\n",
       "    </tr>\n",
       "    <tr>\n",
       "      <th>1545</th>\n",
       "      <td>HURRICANE FRANCES</td>\n",
       "      <td>Hurricane</td>\n",
       "      <td>2004</td>\n",
       "      <td>34.0</td>\n",
       "      <td>1076</td>\n",
       "      <td>4.097340e+08</td>\n",
       "      <td>226457.0</td>\n",
       "    </tr>\n",
       "    <tr>\n",
       "      <th>4339</th>\n",
       "      <td>HURRICANE MARIA</td>\n",
       "      <td>Hurricane</td>\n",
       "      <td>2017</td>\n",
       "      <td>59.0</td>\n",
       "      <td>986</td>\n",
       "      <td>1.244248e+09</td>\n",
       "      <td>464570.0</td>\n",
       "    </tr>\n",
       "    <tr>\n",
       "      <th>4020</th>\n",
       "      <td>HURRICANE IRENE</td>\n",
       "      <td>Hurricane</td>\n",
       "      <td>2011</td>\n",
       "      <td>10.0</td>\n",
       "      <td>949</td>\n",
       "      <td>1.028656e+08</td>\n",
       "      <td>22892.0</td>\n",
       "    </tr>\n",
       "  </tbody>\n",
       "</table>\n",
       "</div>"
      ],
      "text/plain": [
       "                                   title incidentType  fyDeclared  length  \\\n",
       "disasterNumber                                                              \n",
       "4337                      HURRICANE IRMA    Hurricane        2017    44.0   \n",
       "1557            TROPICAL DEPRESSION IVAN    Hurricane        2004    14.0   \n",
       "1545                   HURRICANE FRANCES    Hurricane        2004    34.0   \n",
       "4339                     HURRICANE MARIA    Hurricane        2017    59.0   \n",
       "4020                     HURRICANE IRENE    Hurricane        2011    10.0   \n",
       "\n",
       "                zip_counts    apprAmount  apprIndv  \n",
       "disasterNumber                                      \n",
       "4337                  1773  1.020335e+09  777198.0  \n",
       "1557                  1147  8.654718e+07   25009.0  \n",
       "1545                  1076  4.097340e+08  226457.0  \n",
       "4339                   986  1.244248e+09  464570.0  \n",
       "4020                   949  1.028656e+08   22892.0  "
      ]
     },
     "execution_count": 84,
     "metadata": {},
     "output_type": "execute_result"
    }
   ],
   "source": [
    "corr_cols.sort_values('zip_counts', ascending = False).head()"
   ]
  },
  {
   "cell_type": "markdown",
   "metadata": {},
   "source": [
    "First, we need to establish a null hypothesis: what are we asking; what are the assumed relationships? Let's begin our inquiry by examing the correlation table with each of our important variables:"
   ]
  },
  {
   "cell_type": "code",
   "execution_count": 85,
   "metadata": {},
   "outputs": [
    {
     "data": {
      "text/html": [
       "<div>\n",
       "<style scoped>\n",
       "    .dataframe tbody tr th:only-of-type {\n",
       "        vertical-align: middle;\n",
       "    }\n",
       "\n",
       "    .dataframe tbody tr th {\n",
       "        vertical-align: top;\n",
       "    }\n",
       "\n",
       "    .dataframe thead th {\n",
       "        text-align: right;\n",
       "    }\n",
       "</style>\n",
       "<table border=\"1\" class=\"dataframe\">\n",
       "  <thead>\n",
       "    <tr style=\"text-align: right;\">\n",
       "      <th></th>\n",
       "      <th>fyDeclared</th>\n",
       "      <th>length</th>\n",
       "      <th>zip_counts</th>\n",
       "      <th>apprAmount</th>\n",
       "      <th>apprIndv</th>\n",
       "    </tr>\n",
       "  </thead>\n",
       "  <tbody>\n",
       "    <tr>\n",
       "      <th>fyDeclared</th>\n",
       "      <td>1.000000</td>\n",
       "      <td>-0.059470</td>\n",
       "      <td>-0.040830</td>\n",
       "      <td>-0.025271</td>\n",
       "      <td>-0.002058</td>\n",
       "    </tr>\n",
       "    <tr>\n",
       "      <th>length</th>\n",
       "      <td>-0.059470</td>\n",
       "      <td>1.000000</td>\n",
       "      <td>0.208285</td>\n",
       "      <td>0.119449</td>\n",
       "      <td>0.125618</td>\n",
       "    </tr>\n",
       "    <tr>\n",
       "      <th>zip_counts</th>\n",
       "      <td>-0.040830</td>\n",
       "      <td>0.208285</td>\n",
       "      <td>1.000000</td>\n",
       "      <td>0.445605</td>\n",
       "      <td>0.664998</td>\n",
       "    </tr>\n",
       "    <tr>\n",
       "      <th>apprAmount</th>\n",
       "      <td>-0.025271</td>\n",
       "      <td>0.119449</td>\n",
       "      <td>0.445605</td>\n",
       "      <td>1.000000</td>\n",
       "      <td>0.828424</td>\n",
       "    </tr>\n",
       "    <tr>\n",
       "      <th>apprIndv</th>\n",
       "      <td>-0.002058</td>\n",
       "      <td>0.125618</td>\n",
       "      <td>0.664998</td>\n",
       "      <td>0.828424</td>\n",
       "      <td>1.000000</td>\n",
       "    </tr>\n",
       "  </tbody>\n",
       "</table>\n",
       "</div>"
      ],
      "text/plain": [
       "            fyDeclared    length  zip_counts  apprAmount  apprIndv\n",
       "fyDeclared    1.000000 -0.059470   -0.040830   -0.025271 -0.002058\n",
       "length       -0.059470  1.000000    0.208285    0.119449  0.125618\n",
       "zip_counts   -0.040830  0.208285    1.000000    0.445605  0.664998\n",
       "apprAmount   -0.025271  0.119449    0.445605    1.000000  0.828424\n",
       "apprIndv     -0.002058  0.125618    0.664998    0.828424  1.000000"
      ]
     },
     "execution_count": 85,
     "metadata": {},
     "output_type": "execute_result"
    }
   ],
   "source": [
    "corr_cols[2:].corr()"
   ]
  },
  {
   "cell_type": "markdown",
   "metadata": {},
   "source": [
    "    Right away, we see that nothing about these disasters is correlated in any way with time (as we should expect), so we can write that off. Interestingly, the length of the disaster also shows weak correlations with things like cost and spread ('apprAmount' and 'zip_counts', respectively). Length here is a function of end date and start date--does this weak correlation correspond with limited initiative on FEMA's part end a disaster as quickly as possible? In essence, because their payout is potentially 'uneffected' by how long it takes a disaster to end, what is FEMA's motivation to reach a conclusion?\n",
    "    \n",
    "Ho: shorter disasters and longer disasters cost FEMA the same amount.\n",
    "Ha: shorter disasters and longer disasters do not cost FEMA the same.\n"
   ]
  },
  {
   "cell_type": "code",
   "execution_count": 92,
   "metadata": {},
   "outputs": [
    {
     "data": {
      "text/plain": [
       "count    305.000000\n",
       "mean      21.691803\n",
       "std       28.121858\n",
       "min       -1.000000\n",
       "25%        4.000000\n",
       "50%       12.000000\n",
       "75%       29.000000\n",
       "max      168.000000\n",
       "Name: length, dtype: float64"
      ]
     },
     "execution_count": 92,
     "metadata": {},
     "output_type": "execute_result"
    }
   ],
   "source": [
    "corr_cols['length'].describe()"
   ]
  },
  {
   "cell_type": "code",
   "execution_count": 103,
   "metadata": {},
   "outputs": [
    {
     "name": "stdout",
     "output_type": "stream",
     "text": [
      "Number of short disasters :  158\n",
      "Number of long disasters :  147\n"
     ]
    }
   ],
   "source": [
    "median = 12\n",
    "\n",
    "# median disaster length is 12 days, so we can divide disasters in short and long around 12\n",
    "\n",
    "short = corr_cols[corr_cols['length'] <= median]\n",
    "long = corr_cols[corr_cols['length'] > median]\n",
    "\n",
    "s_count = short.shape[0]\n",
    "l_count = long.shape[0]\n",
    "\n",
    "print(\"Number of short disasters : \", s_count)\n",
    "print(\"Number of long disasters : \", l_count)"
   ]
  },
  {
   "cell_type": "markdown",
   "metadata": {},
   "source": [
    "What are the most appropriate tests to use to analyse these relationships?"
   ]
  },
  {
   "cell_type": "markdown",
   "metadata": {},
   "source": [
    "#### We will use a t-test to evaluate the hypothesis with a significance (a) of 0.05."
   ]
  },
  {
   "cell_type": "code",
   "execution_count": 101,
   "metadata": {},
   "outputs": [
    {
     "name": "stdout",
     "output_type": "stream",
     "text": [
      "Test Statistic (T) :  -2.2405555891802265\n",
      "p-value :  0.027181672426063935\n"
     ]
    }
   ],
   "source": [
    "from scipy import stats\n",
    "T, p = stats.ttest_ind(short['apprAmount'],\n",
    "                       long['apprAmount'],\n",
    "                       equal_var = False)\n",
    "\n",
    "print('Test Statistic (T) : ', T)\n",
    "print('p-value : ', p)"
   ]
  },
  {
   "cell_type": "markdown",
   "metadata": {},
   "source": [
    "With a p-value of 0.0148, we reject our null hypothesis short and long disasters cost FEMA the same amount. However, it's important to realize that with a lower alpha (e.g. 0.01) we should have failed to reject. With this knowledge, we need further insights--perhaps an industry specific understanding of disaster recovery methods.\n",
    "\n",
    "Perhaps we chose our division of lengths too arbitrarily. It should be noted that if we designate 'short disasters' as those lasting two weeks or less and 'long disasters' as lasting three weeks or more, the p-value is still only 0.027--still failing to reject the null."
   ]
  },
  {
   "cell_type": "code",
   "execution_count": 111,
   "metadata": {},
   "outputs": [
    {
     "data": {
      "text/plain": [
       "<matplotlib.legend.Legend at 0x1be3b6aea58>"
      ]
     },
     "execution_count": 111,
     "metadata": {},
     "output_type": "execute_result"
    },
    {
     "data": {
      "image/png": "[encoded data removed]",
      "text/plain": [
       "<Figure size 432x288 with 1 Axes>"
      ]
     },
     "metadata": {},
     "output_type": "display_data"
    }
   ],
   "source": [
    "import seaborn as sns\n",
    "\n",
    "sns.set()\n",
    "plt.scatter(long['length'], long['apprAmount'], c='b', label=\"long disasters\", alpha=0.5)\n",
    "\n",
    "plt.scatter(short['length'], short['apprAmount'], c='r', label=\"short disasters\", alpha=0.5)\n",
    "plt.axvline(x = 12, color = 'k', alpha = 0.5)\n",
    "\n",
    "\n",
    "#plt.xlim([-100,4000])\n",
    "plt.ylim([-0.1e9,1.5e9])\n",
    "plt.xlabel('Length in Days')\n",
    "plt.ylabel('Total Aprroved IHP Amount ($)')\n",
    "plt.title('Title')\n",
    "plt.legend()"
   ]
  },
  {
   "cell_type": "markdown",
   "metadata": {},
   "source": [
    "Our plot confirms our statistical analysis, but also gives us some insight into how the numbers cam out the way they did. Our exceptionally long disasters (4 months+) seem to pull the average down for amount approved for our longer disasters."
   ]
  },
  {
   "cell_type": "code",
   "execution_count": null,
   "metadata": {},
   "outputs": [],
   "source": []
  }
 ],
 "metadata": {
  "kernelspec": {
   "display_name": "Python 3",
   "language": "python",
   "name": "python3"
  },
  "language_info": {
   "codemirror_mode": {
    "name": "ipython",
    "version": 3
   },
   "file_extension": ".py",
   "mimetype": "text/x-python",
   "name": "python",
   "nbconvert_exporter": "python",
   "pygments_lexer": "ipython3",
   "version": "3.7.1"
  }
 },
 "nbformat": 4,
 "nbformat_minor": 2
}
