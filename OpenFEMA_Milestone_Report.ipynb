{
 "cells": [
  {
   "cell_type": "markdown",
   "metadata": {},
   "source": [
    "## FEMA's Problem"
   ]
  },
  {
   "cell_type": "markdown",
   "metadata": {},
   "source": [
    "FEMA has a public relations problem. \n",
    "\n",
    "In 2007, then senator Barack Obama ripped Federal Emergency Management Agency (FEMA) for its response to Hurricane Katrina (August, 2005), and with reasonable cause: \n",
    "\n",
    "“In many cases, resources that were available were not used, whether Amtrak trains that could have taken evacuees to safety before the storm or the U.S. military's 82nd Airborne division, which spent days on standby waiting for orders that never came. Communications were so impossible the Army Corps of Engineers was unable to inform the rest of the government for crucial hours that levees in New Orleans had been breached.” - [Washington Post](\"http://www.washingtonpost.com/wp-dyn/content/article/2005/09/10/AR2005091001529_pf.html?noredirect=on\") \n",
    "\n",
    "“Hundreds of firefighters who volunteered to help rescue victims of Hurricane Katrina have instead been playing cards, taking classes on FEMA's history and lounging at an Atlanta airport hotel for days while they await orders.” - [USAToday](\"http://usatoday30.usatoday.com/news/nation/2005-09-07-firefighters-ga-katrina_x.htm\")\n",
    "    \n",
    "“Officials said New Mexico offered 200 Guard members the day the storm hit, and the troops were packed and ready to move the next day. But no orders were received to move those troops until two days later, Sept. 1, and 400 soldiers finally flew to the hurricane zone on Sept. 2.” - [NYTimes](\"https://www.nytimes.com/2005/09/28/us/nationalspecial/when-storm-hit-national-guard-was-deluged-too.html\")\n",
    "\n",
    "Then president George W. Bush would ultimately sign a 51.8 billion dollor relief bill but the damage would overshadow even that astronomical number, estimated north of 150 billion in damage--all because of the miserable level of preparedness.\n",
    "The Federal Emergency Management Agency received a portion of the criticism it was due, but this was an insight into how bad things can get if left unchecked. Katrina was a worst case scenario and an outlier as far as disasters are concerned.\n",
    "Disaster Data and Mitigation Planning\n",
    "\n",
    "#### The Problem\n",
    "\n",
    "Can we use FEMA's disaster data to:\n",
    "\n",
    "1. assess FEMA’s mitigation protocols based on money spent over time\n",
    "2. rate regions (zipcode or county) for mitigation priority\n",
    "3. predict disasters to assist mitigation efforts and save money\n",
    "\n",
    "#### The Client\n",
    "\n",
    "The US government, state governments, home/flood/disaster insurance companies looking to assess risk.  The private sector could benefit greatly from insights derived from the massive amounts of data FEMA has collected and produced.\n"
   ]
  },
  {
   "cell_type": "markdown",
   "metadata": {},
   "source": [
    "### Obtaining, Cleaning, and Wrangling"
   ]
  },
  {
   "cell_type": "markdown",
   "metadata": {},
   "source": [
    "For this project, I took advantage of OpenFEMA data from [FEMA.gov](\"https://www.fema.gov/openfema\"). OpenFEMA has the self-proclaimed mission to \"execute federal open data machine readable policies and standards, and to promote a culture and empower open government within FEMA.\" Hopefully, this project does them proud.\n",
    "\n",
    "Within OpenFEMA are numerous APIs that allow me to pull to-date information on disasters (in the case of this project ranging back to the year 2000). These APIs allowed for the procuring of my data to be the least of my worries, and as an added benefit, they allowed for replicability--instead of downloading .csv files, this code can be run by anyone by just hitting \"Run All\". By simply running urlretrieve (from the urllib.request package) on the appropriate urls, I was able to find each dataset and convert it into a pandas DataFrame. It was then that I was confronted with just the volume of work that had to be done to clean and wrangle everything."
   ]
  },
  {
   "cell_type": "code",
   "execution_count": null,
   "metadata": {},
   "outputs": [],
   "source": [
    "# Simplicity example. First dataset : Disaster Declarations Summaries (dds)\n",
    "\n",
    "url = 'https://www.fema.gov/api/open/v1/DisasterDeclarationsSummaries.csv'\n",
    "file = 'DisasterDeclarationsSummaries.csv'\n",
    "urlretrieve(url, file)\n",
    "\n",
    "dds = pd.read_csv(file, sep = ',')"
   ]
  },
  {
   "cell_type": "markdown",
   "metadata": {},
   "source": [
    "The above code was repeated with two other sets of data: Housing Assistance for Owners and Housing Assistance for Renters. All of the obtaining, cleaning, and wrangling code can of course be found in a separate notebook (FEMA-data-analysis.ipynb)\n",
    "\n",
    "As mentioned earlier, it was the cleaning and wrangling that proved to be the biggest headache as even FEMA acknowledged on their site, with this much data \"there is bound to be some human error.\" Perhaps one of the bigger understatements...\n",
    "\n",
    "As a first simple example, zip code data (which is important towards the end of indexing this data) came in multiple data types and initially very confusing:"
   ]
  },
  {
   "cell_type": "code",
   "execution_count": null,
   "metadata": {},
   "outputs": [],
   "source": [
    "df = df.dropna(subset=['zipCode'])\n",
    "df = df[df['zipCode']!='00000']\n",
    "df = df[df['zipCode']!=0]"
   ]
  },
  {
   "cell_type": "markdown",
   "metadata": {},
   "source": [
    "Then came the issue of our data being in multiple types elsewhere. However, once our numerical data was converted appropriately using .astype() where needed, we were able to approach the merging of these DataFrames. Now, the Owners Assistance and Renters Assistance DataFrames had repeated columns that needed to be summed--though not all their columns needed this. The strategy we used was to:\n",
    "    1. take advantage of .iloc[] and slice the appropriate columns from each, \n",
    "    2. create temporary 'sub' DataFrames, \n",
    "    3. concatenate them chaining on .sum(), \n",
    "    4. then merge back in the other previously unused columns:"
   ]
  },
  {
   "cell_type": "code",
   "execution_count": null,
   "metadata": {},
   "outputs": [],
   "source": [
    "sub_own = own_df.iloc[:,[0,3,4,5,7,9,14,15,16,17,18,19,20,21,22]]\n",
    "sub_rent = rent_df.iloc[:,[0,1,2,3,4,5,9,10,11,12,13,14,15,16,17]]\n",
    "total_sub = pd.concat([sub_own,sub_rent]).groupby(['disasterNumber','zipCode','city']).sum().reset_index()\n",
    "\n",
    "total_sub = total_sub.set_index(['disasterNumber','zipCode','city'])\n",
    "\n",
    "own_remain = own_df.reset_index().iloc[:,[0,1,2,3,4,6,8,10,11,12,13]].set_index(['disasterNumber','zipCode','city'])\n",
    "rent_remain = rent_df.reset_index().iloc[:,[0,1,2,6,7,8]].set_index(['disasterNumber','zipCode','city'])\n",
    "\n",
    "# duplicate records randomly became an issue at this point and this was a broad brushstrokes approach to getting\n",
    "# around them\n",
    "\n",
    "total_sub = total_sub[~total_sub.index.duplicated()]\n",
    "own_remain = own_remain[~own_remain.index.duplicated()]\n",
    "rent_remain = rent_remain[~rent_remain.index.duplicated()]\n",
    "\n",
    "#list of the dfs I want to combine, all of which share common indices\n",
    "\n",
    "df_list = [total_sub.reset_index(),own_remain.reset_index(),rent_remain.reset_index()]\n",
    "merge_df = df_list[0]\n",
    "for df_ in df_list[1:]:\n",
    "    merge_df = merge_df.merge(df_, on=['disasterNumber','zipCode','city'], how = 'outer')\n",
    "\n",
    "merge_df = merge_df.set_index(['disasterNumber','zipCode','city'])"
   ]
  },
  {
   "cell_type": "markdown",
   "metadata": {},
   "source": [
    "All that remained after this step was to merge this mega DataFrame with the first data mentioned earlier, the Disaster Declaration Summaries:"
   ]
  },
  {
   "cell_type": "code",
   "execution_count": null,
   "metadata": {},
   "outputs": [],
   "source": [
    "df = pd.merge(merge_df.reset_index(), dds_dup.drop(columns = 'state').reset_index(), on = 'disasterNumber')\n",
    "\n",
    "# Save this df so we can use it later in different notebooks.\n",
    "\n",
    "df.to_csv('FEMA.csv',sep = '\\t',index = ['disasterNumber','zipCode','city'])"
   ]
  },
  {
   "cell_type": "markdown",
   "metadata": {},
   "source": [
    "While concatenating and merging all of this data initially felt satisfying (I mean this turned into quite a robust dataset), the human errors proved to really inhibit a lot of my analysis. Misspelling city names created new rows with minimal data and grossly pulled trends toward the side of zero. While this didn't make the DataFrame unuseable, our means of getting around the ugly looking plots it created was to aggregate the information by disaster:"
   ]
  },
  {
   "cell_type": "code",
   "execution_count": null,
   "metadata": {},
   "outputs": [],
   "source": [
    "group_df = df.iloc[:,2:23].groupby('disasterNumber').sum() # variables for which we need a sum aggregate\n",
    "\n",
    "cat_vars = df.iloc[:,23:36].groupby('disasterNumber').first() # variables for which the data is consistent across records\n",
    "\n",
    "agg_df = cat_vars.reset_index().merge(group_df.reset_index(), on = 'disasterNumber').set_index('disasterNumber')"
   ]
  },
  {
   "cell_type": "markdown",
   "metadata": {},
   "source": [
    "This aggregate DataFrame, 'agg_df', ended up being the data for most of my exploratory and inferential analysis."
   ]
  },
  {
   "cell_type": "markdown",
   "metadata": {},
   "source": [
    "### Initial findings from exploratory analysis "
   ]
  },
  {
   "cell_type": "code",
   "execution_count": 1,
   "metadata": {},
   "outputs": [],
   "source": [
    "import pandas as pd\n",
    "\n",
    "# After executing the \"Wrangling\" code for my capstone, the following df will be stored locally as 'FEMA.csv'\n",
    "file = \"FEMA.csv\"\n",
    "dates = ['declarationDate','incidentBeginDate','incidentEndDate','disasterCloseOutDate']\n",
    "df = pd.read_csv(file, sep = '\\t', index_col = ['disasterNumber', 'zipCode', 'city'], parse_dates = dates, low_memory = False)\n",
    "\n",
    "file = \"aggregate_FEMA.csv\"\n",
    "dates = ['declarationDate','incidentBeginDate','incidentEndDate','disasterCloseOutDate']\n",
    "agg_df = pd.read_csv(file, sep = '\\t', index_col = ['disasterNumber'], parse_dates = dates, low_memory = False)"
   ]
  },
  {
   "cell_type": "code",
   "execution_count": 19,
   "metadata": {},
   "outputs": [],
   "source": [
    "from matplotlib import rcParams\n",
    "import matplotlib as mpl\n",
    "\n",
    "blue = '#3498DB'\n",
    "gray = '#95A5A6'\n",
    "red = '#E74C3C'\n",
    "dark_gray = '#34495E'\n",
    "green = '#2ECC71'\n",
    "purple = '#9B59B6'\n",
    "flatui = [blue, gray, red, dark_gray, green, purple]\n",
    "\n",
    "# Patches\n",
    "mpl.rc('patch', \n",
    "       linewidth=0.5, \n",
    "       facecolor=dark_gray, \n",
    "       edgecolor='w', \n",
    "       force_edgecolor=True, \n",
    "       antialiased=True)    \n",
    "  \n",
    "# Figure\n",
    "mpl.rc('figure', \n",
    "       figsize= (15, 6),\n",
    "       facecolor='w', \n",
    "       edgecolor='w', \n",
    "       titlesize='xx-large',\n",
    "       titleweight=700)\n",
    "\n",
    "# Grid\n",
    "mpl.rc('grid', \n",
    "       color=dark_gray,\n",
    "       alpha=0.5, \n",
    "       linewidth=0.5, \n",
    "       linestyle='-')\n",
    "\n",
    "# Axes\n",
    "mpl.rc('axes', \n",
    "       facecolor='w',\n",
    "       edgecolor=dark_gray,\n",
    "       linewidth=0.5,\n",
    "       grid=True,\n",
    "       titlesize='large',\n",
    "       labelsize='large',\n",
    "       labelcolor=dark_gray,\n",
    "       axisbelow=True)\n",
    "\n",
    "mpl.rc('axes.spines',\n",
    "       right=False,\n",
    "       top=False)\n",
    "\n",
    "# Ticks\n",
    "mpl.rc('xtick', \n",
    "       direction='out',\n",
    "       color=dark_gray)\n",
    "\n",
    "mpl.rc('xtick.major', \n",
    "       size=0.0)\n",
    "\n",
    "mpl.rc('xtick.minor', \n",
    "       size=0.0)\n",
    "\n",
    "mpl.rc('ytick', \n",
    "       direction='out',\n",
    "       color=dark_gray)\n",
    "\n",
    "mpl.rc('ytick.major', \n",
    "       size=0.0)\n",
    "\n",
    "mpl.rc('ytick.minor', \n",
    "       size=0.0)\n",
    "\n",
    "mpl.rc('legend', \n",
    "       frameon=False,\n",
    "       numpoints=1,\n",
    "       scatterpoints=1)\n",
    "\n",
    "mpl.rc('font', \n",
    "       size=13,\n",
    "       weight=400,\n",
    "       family='sans-serif')\n",
    "\n",
    "rcParams['font.sans-serif']: ['Helvetica', 'Verdana', 'Lucida Grande']\n",
    "\n",
    "pd.set_option('display.width', 500)\n",
    "pd.set_option('display.max_columns', 100)\n",
    "pd.set_option('display.notebook_repr_html', True)"
   ]
  },
  {
   "cell_type": "markdown",
   "metadata": {},
   "source": [
    "#### Summary of findings\n",
    "#### Visuals and statistics to support findings"
   ]
  },
  {
   "cell_type": "markdown",
   "metadata": {},
   "source": [
    "A bit of wrangling still remains in order to show what was discovered in our EDA. That is conducted below:"
   ]
  },
  {
   "cell_type": "code",
   "execution_count": 4,
   "metadata": {},
   "outputs": [
    {
     "data": {
      "text/html": [
       "<div>\n",
       "<style scoped>\n",
       "    .dataframe tbody tr th:only-of-type {\n",
       "        vertical-align: middle;\n",
       "    }\n",
       "\n",
       "    .dataframe tbody tr th {\n",
       "        vertical-align: top;\n",
       "    }\n",
       "\n",
       "    .dataframe thead th {\n",
       "        text-align: right;\n",
       "    }\n",
       "</style>\n",
       "<table border=\"1\" class=\"dataframe\">\n",
       "  <thead>\n",
       "    <tr style=\"text-align: right;\">\n",
       "      <th></th>\n",
       "      <th>title</th>\n",
       "      <th>incidentType</th>\n",
       "      <th>fyDeclared</th>\n",
       "      <th>length</th>\n",
       "      <th>zip_counts</th>\n",
       "      <th>apprAmount</th>\n",
       "      <th>apprIndv</th>\n",
       "    </tr>\n",
       "    <tr>\n",
       "      <th>disasterNumber</th>\n",
       "      <th></th>\n",
       "      <th></th>\n",
       "      <th></th>\n",
       "      <th></th>\n",
       "      <th></th>\n",
       "      <th></th>\n",
       "      <th></th>\n",
       "    </tr>\n",
       "  </thead>\n",
       "  <tbody>\n",
       "    <tr>\n",
       "      <th>4337</th>\n",
       "      <td>HURRICANE IRMA</td>\n",
       "      <td>Hurricane</td>\n",
       "      <td>2017</td>\n",
       "      <td>44.0</td>\n",
       "      <td>1773</td>\n",
       "      <td>1.020335e+09</td>\n",
       "      <td>777198.0</td>\n",
       "    </tr>\n",
       "    <tr>\n",
       "      <th>1557</th>\n",
       "      <td>TROPICAL DEPRESSION IVAN</td>\n",
       "      <td>Hurricane</td>\n",
       "      <td>2004</td>\n",
       "      <td>14.0</td>\n",
       "      <td>1147</td>\n",
       "      <td>8.654718e+07</td>\n",
       "      <td>25009.0</td>\n",
       "    </tr>\n",
       "    <tr>\n",
       "      <th>1545</th>\n",
       "      <td>HURRICANE FRANCES</td>\n",
       "      <td>Hurricane</td>\n",
       "      <td>2004</td>\n",
       "      <td>34.0</td>\n",
       "      <td>1076</td>\n",
       "      <td>4.097340e+08</td>\n",
       "      <td>226457.0</td>\n",
       "    </tr>\n",
       "    <tr>\n",
       "      <th>4339</th>\n",
       "      <td>HURRICANE MARIA</td>\n",
       "      <td>Hurricane</td>\n",
       "      <td>2017</td>\n",
       "      <td>59.0</td>\n",
       "      <td>986</td>\n",
       "      <td>1.244248e+09</td>\n",
       "      <td>464570.0</td>\n",
       "    </tr>\n",
       "    <tr>\n",
       "      <th>4020</th>\n",
       "      <td>HURRICANE IRENE</td>\n",
       "      <td>Hurricane</td>\n",
       "      <td>2011</td>\n",
       "      <td>10.0</td>\n",
       "      <td>949</td>\n",
       "      <td>1.028656e+08</td>\n",
       "      <td>22892.0</td>\n",
       "    </tr>\n",
       "  </tbody>\n",
       "</table>\n",
       "</div>"
      ],
      "text/plain": [
       "                                   title incidentType  fyDeclared  length  \\\n",
       "disasterNumber                                                              \n",
       "4337                      HURRICANE IRMA    Hurricane        2017    44.0   \n",
       "1557            TROPICAL DEPRESSION IVAN    Hurricane        2004    14.0   \n",
       "1545                   HURRICANE FRANCES    Hurricane        2004    34.0   \n",
       "4339                     HURRICANE MARIA    Hurricane        2017    59.0   \n",
       "4020                     HURRICANE IRENE    Hurricane        2011    10.0   \n",
       "\n",
       "                zip_counts    apprAmount  apprIndv  \n",
       "disasterNumber                                      \n",
       "4337                  1773  1.020335e+09  777198.0  \n",
       "1557                  1147  8.654718e+07   25009.0  \n",
       "1545                  1076  4.097340e+08  226457.0  \n",
       "4339                   986  1.244248e+09  464570.0  \n",
       "4020                   949  1.028656e+08   22892.0  "
      ]
     },
     "execution_count": 4,
     "metadata": {},
     "output_type": "execute_result"
    }
   ],
   "source": [
    "dn_list = agg_df.index\n",
    "zip_counts = []\n",
    "\n",
    "for dn in dn_list:\n",
    "    a = df.reset_index().set_index('disasterNumber').loc[dn,:]\n",
    "    count = len(pd.Series(a.zipCode).unique())\n",
    "    zip_counts.append(count)\n",
    "\n",
    "# this is our measure of \"spread\" for any one disaster--how many zip codes did it cover\n",
    "\n",
    "agg_df['zip_counts'] = zip_counts\n",
    "\n",
    "agg_df.to_csv('aggregate_FEMA.csv', sep = '\\t')\n",
    "\n",
    "# important columns for checking correlation\n",
    "\n",
    "corr_cols = agg_df.reset_index()[['disasterNumber','title','incidentType','fyDeclared','disasterLength','zip_counts',\n",
    "                                  'totalApprovedIhpAmount','approvedForFemaAssistance']]\n",
    "\n",
    "# last bit of data wrangling that needs to be done (unescapable)\n",
    "\n",
    "corr_cols['disasterLength'] = corr_cols['disasterLength'].str.split(expand = True)\n",
    "corr_cols['disasterLength'] = pd.to_numeric(corr_cols['disasterLength'], errors = 'coerce')\n",
    "\n",
    "corr_cols = corr_cols.rename(columns = {'disasterLength':'length',\n",
    "                                        'totalApprovedIhpAmount':'apprAmount',\n",
    "                                        'approvedForFemaAssistance':'apprIndv'})\n",
    "\n",
    "corr_cols = corr_cols.set_index('disasterNumber')\n",
    "\n",
    "corr_cols.sort_values('zip_counts', ascending = False).head()"
   ]
  },
  {
   "cell_type": "markdown",
   "metadata": {},
   "source": [
    "Now that we have the information loaded and correctly constructed, let's look at some correlations (or in our case, what end up being non-correlations where we might expect correlations)."
   ]
  },
  {
   "cell_type": "code",
   "execution_count": 4,
   "metadata": {},
   "outputs": [
    {
     "data": {
      "text/html": [
       "<div>\n",
       "<style scoped>\n",
       "    .dataframe tbody tr th:only-of-type {\n",
       "        vertical-align: middle;\n",
       "    }\n",
       "\n",
       "    .dataframe tbody tr th {\n",
       "        vertical-align: top;\n",
       "    }\n",
       "\n",
       "    .dataframe thead th {\n",
       "        text-align: right;\n",
       "    }\n",
       "</style>\n",
       "<table border=\"1\" class=\"dataframe\">\n",
       "  <thead>\n",
       "    <tr style=\"text-align: right;\">\n",
       "      <th></th>\n",
       "      <th>fyDeclared</th>\n",
       "      <th>length</th>\n",
       "      <th>zip_counts</th>\n",
       "      <th>apprAmount</th>\n",
       "      <th>apprIndv</th>\n",
       "    </tr>\n",
       "  </thead>\n",
       "  <tbody>\n",
       "    <tr>\n",
       "      <th>fyDeclared</th>\n",
       "      <td>1.000000</td>\n",
       "      <td>-0.059470</td>\n",
       "      <td>-0.040830</td>\n",
       "      <td>-0.025271</td>\n",
       "      <td>-0.002058</td>\n",
       "    </tr>\n",
       "    <tr>\n",
       "      <th>length</th>\n",
       "      <td>-0.059470</td>\n",
       "      <td>1.000000</td>\n",
       "      <td>0.208285</td>\n",
       "      <td>0.119449</td>\n",
       "      <td>0.125618</td>\n",
       "    </tr>\n",
       "    <tr>\n",
       "      <th>zip_counts</th>\n",
       "      <td>-0.040830</td>\n",
       "      <td>0.208285</td>\n",
       "      <td>1.000000</td>\n",
       "      <td>0.445605</td>\n",
       "      <td>0.664998</td>\n",
       "    </tr>\n",
       "    <tr>\n",
       "      <th>apprAmount</th>\n",
       "      <td>-0.025271</td>\n",
       "      <td>0.119449</td>\n",
       "      <td>0.445605</td>\n",
       "      <td>1.000000</td>\n",
       "      <td>0.828424</td>\n",
       "    </tr>\n",
       "    <tr>\n",
       "      <th>apprIndv</th>\n",
       "      <td>-0.002058</td>\n",
       "      <td>0.125618</td>\n",
       "      <td>0.664998</td>\n",
       "      <td>0.828424</td>\n",
       "      <td>1.000000</td>\n",
       "    </tr>\n",
       "  </tbody>\n",
       "</table>\n",
       "</div>"
      ],
      "text/plain": [
       "            fyDeclared    length  zip_counts  apprAmount  apprIndv\n",
       "fyDeclared    1.000000 -0.059470   -0.040830   -0.025271 -0.002058\n",
       "length       -0.059470  1.000000    0.208285    0.119449  0.125618\n",
       "zip_counts   -0.040830  0.208285    1.000000    0.445605  0.664998\n",
       "apprAmount   -0.025271  0.119449    0.445605    1.000000  0.828424\n",
       "apprIndv     -0.002058  0.125618    0.664998    0.828424  1.000000"
      ]
     },
     "execution_count": 4,
     "metadata": {},
     "output_type": "execute_result"
    }
   ],
   "source": [
    "corr_cols[2:].corr()"
   ]
  },
  {
   "cell_type": "markdown",
   "metadata": {},
   "source": [
    "    Right away, we see that nothing about these disasters is correlated in any way with time (as we should expect), so we can write that off. Interestingly, the length of the disaster also shows weak correlations with things like cost and spread ('apprAmount' and 'zip_counts', respectively). Length here is a function of end date and start date--does this weak correlation correspond with limited initiative on FEMA's part end a disaster as quickly as possible? In essence, because their payout is potentially 'uneffected' by how long it takes a disaster to end, what is FEMA's motivation to reach a conclusion?\n",
    "    \n",
    "Ho: shorter disasters and longer disasters cost FEMA the same amount.\n",
    "\n",
    "Ha: shorter disasters and longer disasters do not cost FEMA the same."
   ]
  },
  {
   "cell_type": "code",
   "execution_count": 5,
   "metadata": {},
   "outputs": [
    {
     "data": {
      "text/plain": [
       "count    305.000000\n",
       "mean      21.691803\n",
       "std       28.121858\n",
       "min       -1.000000\n",
       "25%        4.000000\n",
       "50%       12.000000\n",
       "75%       29.000000\n",
       "max      168.000000\n",
       "Name: length, dtype: float64"
      ]
     },
     "execution_count": 5,
     "metadata": {},
     "output_type": "execute_result"
    }
   ],
   "source": [
    "corr_cols['length'].describe()"
   ]
  },
  {
   "cell_type": "code",
   "execution_count": 6,
   "metadata": {},
   "outputs": [
    {
     "name": "stdout",
     "output_type": "stream",
     "text": [
      "Number of short disasters :  158\n",
      "Number of long disasters :  147\n"
     ]
    }
   ],
   "source": [
    "median = 12\n",
    "\n",
    "# median disaster length is 12 days, so we can divide disasters in short and long around 12\n",
    "\n",
    "short = corr_cols[corr_cols['length'] <= median]\n",
    "long = corr_cols[corr_cols['length'] > median]\n",
    "\n",
    "s_count = short.shape[0]\n",
    "l_count = long.shape[0]\n",
    "\n",
    "print(\"Number of short disasters : \", s_count)\n",
    "print(\"Number of long disasters : \", l_count)"
   ]
  },
  {
   "cell_type": "markdown",
   "metadata": {},
   "source": [
    "In the EDA portion of this capstone, we used a t-test for our hypotheses:"
   ]
  },
  {
   "cell_type": "code",
   "execution_count": 7,
   "metadata": {},
   "outputs": [
    {
     "name": "stdout",
     "output_type": "stream",
     "text": [
      "Test Statistic (T) :  -2.4643699034225706\n",
      "p-value :  0.014807271382714208\n"
     ]
    }
   ],
   "source": [
    "from scipy import stats\n",
    "T, p = stats.ttest_ind(short['apprAmount'],\n",
    "                       long['apprAmount'],\n",
    "                       equal_var = False)\n",
    "\n",
    "print('Test Statistic (T) : ', T)\n",
    "print('p-value : ', p)"
   ]
  },
  {
   "cell_type": "markdown",
   "metadata": {},
   "source": [
    "With a p-value of 0.0148, we reject our null hypothesis short and long disasters cost FEMA the same amount. However, it's important to realize that with a lower alpha (e.g. 0.01) we should have failed to reject. With this knowledge, we need further insights--perhaps an industry specific understanding of disaster recovery methods.\n",
    "\n",
    "Perhaps we chose our division of lengths too arbitrarily. It should be noted that if we designate 'short disasters' as those lasting two weeks or less and 'long disasters' as lasting three weeks or more, the p-value is still only 0.027--still failing to reject the null."
   ]
  },
  {
   "cell_type": "code",
   "execution_count": 20,
   "metadata": {
    "scrolled": false
   },
   "outputs": [
    {
     "data": {
      "image/png": "[encoded data removed]",
      "text/plain": [
       "<Figure size 1080x432 with 1 Axes>"
      ]
     },
     "metadata": {},
     "output_type": "display_data"
    }
   ],
   "source": [
    "import seaborn as sns\n",
    "import matplotlib.pyplot as plt\n",
    "\n",
    "plt.scatter(long['length'], long['apprAmount'], c='b', label=\"long disasters\", alpha=0.5)\n",
    "\n",
    "plt.scatter(short['length'], short['apprAmount'], c='r', label=\"short disasters\", alpha=0.5)\n",
    "plt.axvline(x = median, color = 'k', alpha = 0.5)\n",
    "\n",
    "\n",
    "#plt.xlim([-100,4000])\n",
    "plt.ylim([-1e7,2.5e8])\n",
    "plt.xlabel('Length in Days')\n",
    "plt.ylabel('Total Approved IHP Amount ($)')\n",
    "plt.title('FEMA Approved Spending Against Disaster Length')\n",
    "plt.legend()\n",
    "plt.show()"
   ]
  },
  {
   "cell_type": "markdown",
   "metadata": {},
   "source": [
    "Here is a case of statistical significance versus practical significance: yes, we ought to reject our null, but the plot communicates the idea that as disasters stretch out, spending falls dramatically. That, in general, there's a line drawn around 15,000,000 dollars and spending will rarely exceed that. \n",
    "\n",
    "As we round out this project, analysis will need to go deeper into how individual zip codes are effected compared to one another. Perhaps there's a clustering analysis we can do to help towards our second objective of parsing out which areas of the country should be budgeted the most."
   ]
  },
  {
   "cell_type": "code",
   "execution_count": 9,
   "metadata": {},
   "outputs": [
    {
     "data": {
      "text/plain": [
       "count     306.00000\n",
       "mean      174.77451\n",
       "std       216.51809\n",
       "min         1.00000\n",
       "25%        39.00000\n",
       "50%        99.50000\n",
       "75%       225.00000\n",
       "max      1773.00000\n",
       "Name: zip_counts, dtype: float64"
      ]
     },
     "execution_count": 9,
     "metadata": {},
     "output_type": "execute_result"
    }
   ],
   "source": [
    "corr_cols.zip_counts.describe()"
   ]
  },
  {
   "cell_type": "markdown",
   "metadata": {},
   "source": [
    "We can run the same analysis with our measure of spread, zip counts. As the descriptive statistics above show us though, the top end of our data is pulling the mean far to the right, so let's just consider the first 3 quartiles:"
   ]
  },
  {
   "cell_type": "code",
   "execution_count": 10,
   "metadata": {},
   "outputs": [
    {
     "data": {
      "text/plain": [
       "count    230.000000\n",
       "mean      79.656522\n",
       "std       58.686640\n",
       "min        1.000000\n",
       "25%       32.000000\n",
       "50%       63.000000\n",
       "75%      123.500000\n",
       "max      225.000000\n",
       "Name: zip_counts, dtype: float64"
      ]
     },
     "execution_count": 10,
     "metadata": {},
     "output_type": "execute_result"
    }
   ],
   "source": [
    "# create temporary df just to account for the far right\n",
    "\n",
    "x = corr_cols[corr_cols.zip_counts <= 225]\n",
    "x.zip_counts.describe()"
   ]
  },
  {
   "cell_type": "code",
   "execution_count": 11,
   "metadata": {},
   "outputs": [
    {
     "name": "stdout",
     "output_type": "stream",
     "text": [
      "Number of small disasters :  136\n",
      "Number of big disasters :  94\n"
     ]
    }
   ],
   "source": [
    "mean = 80\n",
    "\n",
    "# mean zip count is 80 zip codes, so we can divide disasters into big and small around 170\n",
    "\n",
    "small = x[x['zip_counts'] <= mean]\n",
    "big = x[x['zip_counts'] > mean]\n",
    "\n",
    "s_count = small.shape[0]\n",
    "b_count = big.shape[0]\n",
    "\n",
    "print(\"Number of small disasters : \", s_count)\n",
    "print(\"Number of big disasters : \", b_count)"
   ]
  },
  {
   "cell_type": "code",
   "execution_count": 12,
   "metadata": {},
   "outputs": [
    {
     "name": "stdout",
     "output_type": "stream",
     "text": [
      "Correlation between Total Amount and Total Individuals: 0.7053571861660324\n"
     ]
    }
   ],
   "source": [
    "lim_x = x[x['apprIndv'] < 2000]\n",
    "\n",
    "a = lim_x['apprIndv']\n",
    "b = lim_x['apprAmount']\n",
    "\n",
    "print(\"Correlation between Total Amount and Total Individuals:\",a.corr(b))"
   ]
  },
  {
   "cell_type": "code",
   "execution_count": 21,
   "metadata": {},
   "outputs": [
    {
     "name": "stdout",
     "output_type": "stream",
     "text": [
      "Slope :  4161.37\n"
     ]
    },
    {
     "data": {
      "image/png": "[encoded data removed]",
      "text/plain": [
       "<Figure size 1080x432 with 1 Axes>"
      ]
     },
     "metadata": {},
     "output_type": "display_data"
    }
   ],
   "source": [
    "import numpy as np\n",
    "\n",
    "# Deriving slope,intercept values\n",
    "slope, intercept = np.polyfit(a, b, 1)\n",
    "abline_values = [slope * i + intercept for i in a]\n",
    "\n",
    "print('Slope : ', round(slope, 2))\n",
    "\n",
    "plt.scatter(big['apprIndv'], big['apprAmount'], c='b', label=\"large disasters\", alpha=0.5)\n",
    "\n",
    "plt.scatter(small['apprIndv'], small['apprAmount'], c='r', label=\"small disasters\", alpha=0.25)\n",
    "\n",
    "\n",
    "plt.plot(a, abline_values, 'k', alpha = 0.5)\n",
    "plt.ylim([-50,10000000])\n",
    "plt.xlim([-100, 2000])\n",
    "plt.xlabel('Total Approved Individuals')\n",
    "plt.ylabel('Total Approved IHP Amount ($)')\n",
    "plt.title('FEMA Approved Spending Against Effected Individuals')\n",
    "plt.legend()\n",
    "plt.show()"
   ]
  },
  {
   "cell_type": "markdown",
   "metadata": {},
   "source": [
    "The slope would suggest that for every approved-for-assistance individual, FEMA is paying out another 4000+ dollars, irrespective of the size of the disaster.\n",
    "\n",
    "We can create a new feature based on our fiscal year declared feature to look at how recent a disaster has struck. We'll call that 'age'. When we add this feature and run a correlation test, surprisingly, we actually get a bite. One other feature correlates decently with how long ago the disaster happened--iaProgramDeclared. 'ia' simply stands for Individual Assistance and many of the things this program would do are seemingly detailed out as other distinct features already. But according to FEMA's records, the last time a disaster warranted declaring such a program was 2008 (see plot below)."
   ]
  },
  {
   "cell_type": "code",
   "execution_count": 14,
   "metadata": {},
   "outputs": [],
   "source": [
    "agg_df['age'] = 2019 - agg_df['fyDeclared']"
   ]
  },
  {
   "cell_type": "code",
   "execution_count": 15,
   "metadata": {},
   "outputs": [
    {
     "data": {
      "text/plain": [
       "age                  1.000000\n",
       "iaProgramDeclared    0.617429\n",
       "rentalAmount         0.060675\n",
       "Name: age, dtype: float64"
      ]
     },
     "execution_count": 15,
     "metadata": {},
     "output_type": "execute_result"
    }
   ],
   "source": [
    "agg_df.corr().sort_values('age', ascending = False).loc[:,'age'][0:3]"
   ]
  },
  {
   "cell_type": "code",
   "execution_count": 22,
   "metadata": {},
   "outputs": [
    {
     "data": {
      "image/png": "[encoded data removed]",
      "text/plain": [
       "<Figure size 1080x432 with 1 Axes>"
      ]
     },
     "metadata": {},
     "output_type": "display_data"
    }
   ],
   "source": [
    "import numpy as np\n",
    "import matplotlib.pyplot as plt\n",
    "\n",
    "from sklearn import linear_model\n",
    "from scipy.special import expit\n",
    "\n",
    "plt.scatter(agg_df['fyDeclared'], agg_df['iaProgramDeclared'])\n",
    "plt.xlabel('Year')\n",
    "plt.ylabel('IA Program Declared Yes/No (1/0)')\n",
    "plt.title('Declaration of Individual Assistance Program')\n",
    "plt.xticks(ticks = [2000, 2003, 2006, 2009, 2012, 2015, 2018, 2021])\n",
    "\n",
    "plt.show()"
   ]
  }
 ],
 "metadata": {
  "kernelspec": {
   "display_name": "Python 3",
   "language": "python",
   "name": "python3"
  },
  "language_info": {
   "codemirror_mode": {
    "name": "ipython",
    "version": 3
   },
   "file_extension": ".py",
   "mimetype": "text/x-python",
   "name": "python",
   "nbconvert_exporter": "python",
   "pygments_lexer": "ipython3",
   "version": "3.7.1"
  }
 },
 "nbformat": 4,
 "nbformat_minor": 2
}
